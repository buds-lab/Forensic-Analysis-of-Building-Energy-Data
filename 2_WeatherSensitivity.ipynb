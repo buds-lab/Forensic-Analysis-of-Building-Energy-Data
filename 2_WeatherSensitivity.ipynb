{
 "metadata": {
  "name": "",
  "signature": "sha256:b7be5633fc535bea9cfca7dd1384fec793da306b051873d263b1f754820fe208"
 },
 "nbformat": 3,
 "nbformat_minor": 0,
 "worksheets": [
  {
   "cells": [
    {
     "cell_type": "markdown",
     "metadata": {},
     "source": [
      "##Weather Sensitivity Testing -- Dataset for the SimAUD 2015 Conference\n",
      "\n",
      "The goal of analysis is to understand the weather sensitivity of the kWh readings for the SimAUD 2015 paper."
     ]
    },
    {
     "cell_type": "code",
     "collapsed": false,
     "input": [
      "import pandas as pd\n",
      "from matplotlib import ticker\n",
      "import matplotlib.pyplot as plt\n",
      "import numpy as np\n",
      "from matplotlib.backends.backend_pdf import PdfPages\n",
      "import os\n",
      "import matplotlib.dates as mdates\n",
      "import datetime as dt"
     ],
     "language": "python",
     "metadata": {},
     "outputs": [],
     "prompt_number": 1
    },
    {
     "cell_type": "code",
     "collapsed": false,
     "input": [
      "df = pd.read_csv(\"./SimAud_OpenDataSet.csv\", parse_dates=True, index_col=\"Date Time\")"
     ],
     "language": "python",
     "metadata": {},
     "outputs": [],
     "prompt_number": 2
    },
    {
     "cell_type": "markdown",
     "metadata": {},
     "source": [
      "###First, let's remove the outliers, flatlines, etc from the last step\n",
      "\n",
      "Outliers first"
     ]
    },
    {
     "cell_type": "code",
     "collapsed": false,
     "input": [
      "df.ix[:,:10].info()"
     ],
     "language": "python",
     "metadata": {},
     "outputs": [
      {
       "output_type": "stream",
       "stream": "stdout",
       "text": [
        "<class 'pandas.core.frame.DataFrame'>\n",
        "DatetimeIndex: 70345 entries, 2006-01-01 00:00:00 to 2014-01-10 00:00:00\n",
        "Data columns (total 10 columns):\n",
        "26    70193 non-null float64\n",
        "27    70193 non-null float64\n",
        "28    70193 non-null float64\n",
        "32    70193 non-null float64\n",
        "34    73 non-null float64\n",
        "35    70193 non-null float64\n",
        "63    70193 non-null float64\n",
        "67    70102 non-null float64\n",
        "68    70246 non-null float64\n",
        "69    70126 non-null float64\n",
        "dtypes: float64(10)\n",
        "memory usage: 5.9 MB\n"
       ]
      }
     ],
     "prompt_number": 3
    },
    {
     "cell_type": "code",
     "collapsed": false,
     "input": [
      "for datapoint in df.columns:\n",
      "    df[datapoint] = df[datapoint][np.abs(df[datapoint]) < (df[datapoint].mean() + 3 * df[datapoint].std())]"
     ],
     "language": "python",
     "metadata": {},
     "outputs": [],
     "prompt_number": 4
    },
    {
     "cell_type": "code",
     "collapsed": false,
     "input": [
      "df.ix[:,:10].info()"
     ],
     "language": "python",
     "metadata": {},
     "outputs": [
      {
       "output_type": "stream",
       "stream": "stdout",
       "text": [
        "<class 'pandas.core.frame.DataFrame'>\n",
        "DatetimeIndex: 70345 entries, 2006-01-01 00:00:00 to 2014-01-10 00:00:00\n",
        "Data columns (total 10 columns):\n",
        "26    70148 non-null float64\n",
        "27    69964 non-null float64\n",
        "28    68385 non-null float64\n",
        "32    70154 non-null float64\n",
        "34    73 non-null float64\n",
        "35    70186 non-null float64\n",
        "63    70094 non-null float64\n",
        "67    69933 non-null float64\n",
        "68    69692 non-null float64\n",
        "69    70124 non-null float64\n",
        "dtypes: float64(10)\n",
        "memory usage: 5.9 MB\n"
       ]
      }
     ],
     "prompt_number": 5
    },
    {
     "cell_type": "markdown",
     "metadata": {},
     "source": [
      "Remove readings that are continuously 0 for a whole day"
     ]
    },
    {
     "cell_type": "code",
     "collapsed": false,
     "input": [
      "df_daily_temp = df.resample('D')\n",
      "df_hourly_temp = df_daily_temp.resample('H')\n",
      "\n",
      "for datapoint in df.columns:\n",
      "    df[datapoint] = df[datapoint][df_hourly_temp[datapoint].fillna(method='ffill') > 0]\n",
      "    "
     ],
     "language": "python",
     "metadata": {},
     "outputs": [],
     "prompt_number": 6
    },
    {
     "cell_type": "markdown",
     "metadata": {},
     "source": [
      "What's left should be all positive, non-outliers, non-zero average days data"
     ]
    },
    {
     "cell_type": "code",
     "collapsed": false,
     "input": [
      "df.ix[:,:10].info()"
     ],
     "language": "python",
     "metadata": {},
     "outputs": [
      {
       "output_type": "stream",
       "stream": "stdout",
       "text": [
        "<class 'pandas.core.frame.DataFrame'>\n",
        "DatetimeIndex: 70345 entries, 2006-01-01 00:00:00 to 2014-01-10 00:00:00\n",
        "Data columns (total 10 columns):\n",
        "26    70148 non-null float64\n",
        "27    69964 non-null float64\n",
        "28    68385 non-null float64\n",
        "32    70020 non-null float64\n",
        "34    73 non-null float64\n",
        "35    70186 non-null float64\n",
        "63    69614 non-null float64\n",
        "67    557 non-null float64\n",
        "68    60932 non-null float64\n",
        "69    38470 non-null float64\n",
        "dtypes: float64(10)\n",
        "memory usage: 5.9 MB\n"
       ]
      }
     ],
     "prompt_number": 7
    },
    {
     "cell_type": "markdown",
     "metadata": {},
     "source": [
      "###Now, let's grab the weather data"
     ]
    },
    {
     "cell_type": "code",
     "collapsed": false,
     "input": [
      "df_DB = pd.read_csv(\"weather_drybulb.csv\", sep=\";\", index_col=\"Date Time\", parse_dates=True)"
     ],
     "language": "python",
     "metadata": {},
     "outputs": [],
     "prompt_number": 8
    },
    {
     "cell_type": "code",
     "collapsed": false,
     "input": [
      "df_DB_hourly = df_DB.resample('H')\n",
      "df_DB_hourly.head()"
     ],
     "language": "python",
     "metadata": {},
     "outputs": [
      {
       "html": [
        "<div style=\"max-height:1000px;max-width:1500px;overflow:auto;\">\n",
        "<table border=\"1\" class=\"dataframe\">\n",
        "  <thead>\n",
        "    <tr style=\"text-align: right;\">\n",
        "      <th></th>\n",
        "      <th>A [Grad C]</th>\n",
        "    </tr>\n",
        "    <tr>\n",
        "      <th>Date Time</th>\n",
        "      <th></th>\n",
        "    </tr>\n",
        "  </thead>\n",
        "  <tbody>\n",
        "    <tr>\n",
        "      <th>2006-01-07 00:00:00</th>\n",
        "      <td>-3.51750</td>\n",
        "    </tr>\n",
        "    <tr>\n",
        "      <th>2006-01-07 01:00:00</th>\n",
        "      <td>-3.58350</td>\n",
        "    </tr>\n",
        "    <tr>\n",
        "      <th>2006-01-07 02:00:00</th>\n",
        "      <td>-3.51550</td>\n",
        "    </tr>\n",
        "    <tr>\n",
        "      <th>2006-01-07 03:00:00</th>\n",
        "      <td>-3.54425</td>\n",
        "    </tr>\n",
        "    <tr>\n",
        "      <th>2006-01-07 04:00:00</th>\n",
        "      <td>-3.63025</td>\n",
        "    </tr>\n",
        "  </tbody>\n",
        "</table>\n",
        "</div>"
       ],
       "metadata": {},
       "output_type": "pyout",
       "prompt_number": 9,
       "text": [
        "                     A [Grad C]\n",
        "Date Time                      \n",
        "2006-01-07 00:00:00    -3.51750\n",
        "2006-01-07 01:00:00    -3.58350\n",
        "2006-01-07 02:00:00    -3.51550\n",
        "2006-01-07 03:00:00    -3.54425\n",
        "2006-01-07 04:00:00    -3.63025"
       ]
      }
     ],
     "prompt_number": 9
    },
    {
     "cell_type": "code",
     "collapsed": false,
     "input": [
      "df_DB_hourly.plot()"
     ],
     "language": "python",
     "metadata": {},
     "outputs": [
      {
       "metadata": {},
       "output_type": "pyout",
       "prompt_number": 10,
       "text": [
        "<matplotlib.axes._subplots.AxesSubplot at 0x1103f3910>"
       ]
      },
      {
       "metadata": {},
       "output_type": "display_data",
       "png": "[encoded data removed]",
       "text": [
        "<matplotlib.figure.Figure at 0x1103f3e90>"
       ]
      }
     ],
     "prompt_number": 10
    },
    {
     "cell_type": "markdown",
     "metadata": {},
     "source": [
      "Looks like we have a big nasty outlier in 2006"
     ]
    },
    {
     "cell_type": "code",
     "collapsed": false,
     "input": [
      "df_DB_hourly = df_DB_hourly[df_DB_hourly < 100]"
     ],
     "language": "python",
     "metadata": {},
     "outputs": [],
     "prompt_number": 11
    },
    {
     "cell_type": "code",
     "collapsed": false,
     "input": [
      "df_DB_hourly.plot()"
     ],
     "language": "python",
     "metadata": {},
     "outputs": [
      {
       "metadata": {},
       "output_type": "pyout",
       "prompt_number": 12,
       "text": [
        "<matplotlib.axes._subplots.AxesSubplot at 0x10f964fd0>"
       ]
      },
      {
       "metadata": {},
       "output_type": "display_data",
       "png": "[encoded data removed]",
       "text": [
        "<matplotlib.figure.Figure at 0x10f97b090>"
       ]
      }
     ],
     "prompt_number": 12
    },
    {
     "cell_type": "markdown",
     "metadata": {},
     "source": [
      "###Now, let's compute the Spearman Rank Correlation to determine weather sensitivity\n",
      "\n",
      "Base analysis on: http://nbviewer.ipython.org/gist/junglejulia/5608949"
     ]
    },
    {
     "cell_type": "code",
     "collapsed": false,
     "input": [
      "import scipy.stats as stats"
     ],
     "language": "python",
     "metadata": {},
     "outputs": [],
     "prompt_number": 13
    },
    {
     "cell_type": "markdown",
     "metadata": {},
     "source": [
      "Let's do a test with one column."
     ]
    },
    {
     "cell_type": "code",
     "collapsed": false,
     "input": [
      "combined = pd.merge(df.ix[:,:1], df_DB_hourly, right_index=True, left_index=True, how='left')\n",
      "combined = combined.dropna()"
     ],
     "language": "python",
     "metadata": {},
     "outputs": [],
     "prompt_number": 14
    },
    {
     "cell_type": "code",
     "collapsed": false,
     "input": [
      "scatter(combined[\"26\"], combined[\"A [Grad C]\"])"
     ],
     "language": "python",
     "metadata": {},
     "outputs": [
      {
       "metadata": {},
       "output_type": "pyout",
       "prompt_number": 15,
       "text": [
        "<matplotlib.collections.PathCollection at 0x1117e5110>"
       ]
      },
      {
       "metadata": {},
       "output_type": "display_data",
       "png": "[encoded data removed]",
       "text": [
        "<matplotlib.figure.Figure at 0x1117b8190>"
       ]
      }
     ],
     "prompt_number": 15
    },
    {
     "cell_type": "code",
     "collapsed": false,
     "input": [
      "coeff, p = stats.spearmanr(combined[\"26\"], combined[\"A [Grad C]\"])"
     ],
     "language": "python",
     "metadata": {},
     "outputs": [],
     "prompt_number": 16
    },
    {
     "cell_type": "code",
     "collapsed": false,
     "input": [
      "coeff, p"
     ],
     "language": "python",
     "metadata": {},
     "outputs": [
      {
       "metadata": {},
       "output_type": "pyout",
       "prompt_number": 17,
       "text": [
        "(0.075659373689200671, 1.6605487933600963e-89)"
       ]
      }
     ],
     "prompt_number": 17
    },
    {
     "cell_type": "code",
     "collapsed": false,
     "input": [
      "combined.dropna().info()"
     ],
     "language": "python",
     "metadata": {},
     "outputs": [
      {
       "output_type": "stream",
       "stream": "stdout",
       "text": [
        "<class 'pandas.core.frame.DataFrame'>\n",
        "DatetimeIndex: 70096 entries, 2006-01-07 00:00:00 to 2014-01-10 00:00:00\n",
        "Data columns (total 2 columns):\n",
        "26            70096 non-null float64\n",
        "A [Grad C]    70096 non-null float64\n",
        "dtypes: float64(2)\n",
        "memory usage: 1.6 MB\n"
       ]
      }
     ],
     "prompt_number": 18
    },
    {
     "cell_type": "markdown",
     "metadata": {},
     "source": [
      "Apply a custom function to groupby: http://stackoverflow.com/questions/14246817/python-pandas-custom-agg-function"
     ]
    },
    {
     "cell_type": "code",
     "collapsed": false,
     "input": [
      "spearman = combined.groupby([lambda x: x.year, lambda x: x.week]).apply(lambda x: stats.spearmanr(x[\"26\"], x[\"A [Grad C]\"])[0])"
     ],
     "language": "python",
     "metadata": {},
     "outputs": [],
     "prompt_number": 19
    },
    {
     "cell_type": "markdown",
     "metadata": {},
     "source": [
      "Get it back to a datetime index using the guidances from: \n",
      "\n",
      "http://stackoverflow.com/questions/24090710/pandas-convert-dataframe-multi-index-to-datetime-object\n",
      "\n",
      "http://stackoverflow.com/questions/19350806/how-to-convert-columns-into-one-datetime-column-in-pandas"
     ]
    },
    {
     "cell_type": "code",
     "collapsed": false,
     "input": [
      "spearman = spearman.reset_index()"
     ],
     "language": "python",
     "metadata": {},
     "outputs": [],
     "prompt_number": 20
    },
    {
     "cell_type": "code",
     "collapsed": false,
     "input": [
      "spearman"
     ],
     "language": "python",
     "metadata": {},
     "outputs": [
      {
       "html": [
        "<div style=\"max-height:1000px;max-width:1500px;overflow:auto;\">\n",
        "<table border=\"1\" class=\"dataframe\">\n",
        "  <thead>\n",
        "    <tr style=\"text-align: right;\">\n",
        "      <th></th>\n",
        "      <th>level_0</th>\n",
        "      <th>level_1</th>\n",
        "      <th>0</th>\n",
        "    </tr>\n",
        "  </thead>\n",
        "  <tbody>\n",
        "    <tr>\n",
        "      <th>0  </th>\n",
        "      <td> 2006</td>\n",
        "      <td>  1</td>\n",
        "      <td> 0.478289</td>\n",
        "    </tr>\n",
        "    <tr>\n",
        "      <th>1  </th>\n",
        "      <td> 2006</td>\n",
        "      <td>  2</td>\n",
        "      <td> 0.663151</td>\n",
        "    </tr>\n",
        "    <tr>\n",
        "      <th>2  </th>\n",
        "      <td> 2006</td>\n",
        "      <td>  3</td>\n",
        "      <td> 0.015667</td>\n",
        "    </tr>\n",
        "    <tr>\n",
        "      <th>3  </th>\n",
        "      <td> 2006</td>\n",
        "      <td>  4</td>\n",
        "      <td> 0.035093</td>\n",
        "    </tr>\n",
        "    <tr>\n",
        "      <th>4  </th>\n",
        "      <td> 2006</td>\n",
        "      <td>  5</td>\n",
        "      <td> 0.493773</td>\n",
        "    </tr>\n",
        "    <tr>\n",
        "      <th>5  </th>\n",
        "      <td> 2006</td>\n",
        "      <td>  6</td>\n",
        "      <td> 0.674519</td>\n",
        "    </tr>\n",
        "    <tr>\n",
        "      <th>6  </th>\n",
        "      <td> 2006</td>\n",
        "      <td>  7</td>\n",
        "      <td> 0.306276</td>\n",
        "    </tr>\n",
        "    <tr>\n",
        "      <th>7  </th>\n",
        "      <td> 2006</td>\n",
        "      <td>  8</td>\n",
        "      <td> 0.435993</td>\n",
        "    </tr>\n",
        "    <tr>\n",
        "      <th>8  </th>\n",
        "      <td> 2006</td>\n",
        "      <td>  9</td>\n",
        "      <td> 0.363964</td>\n",
        "    </tr>\n",
        "    <tr>\n",
        "      <th>9  </th>\n",
        "      <td> 2006</td>\n",
        "      <td> 10</td>\n",
        "      <td> 0.459939</td>\n",
        "    </tr>\n",
        "    <tr>\n",
        "      <th>10 </th>\n",
        "      <td> 2006</td>\n",
        "      <td> 11</td>\n",
        "      <td> 0.369484</td>\n",
        "    </tr>\n",
        "    <tr>\n",
        "      <th>11 </th>\n",
        "      <td> 2006</td>\n",
        "      <td> 12</td>\n",
        "      <td> 0.120423</td>\n",
        "    </tr>\n",
        "    <tr>\n",
        "      <th>12 </th>\n",
        "      <td> 2006</td>\n",
        "      <td> 13</td>\n",
        "      <td>-0.036348</td>\n",
        "    </tr>\n",
        "    <tr>\n",
        "      <th>13 </th>\n",
        "      <td> 2006</td>\n",
        "      <td> 14</td>\n",
        "      <td> 0.134022</td>\n",
        "    </tr>\n",
        "    <tr>\n",
        "      <th>14 </th>\n",
        "      <td> 2006</td>\n",
        "      <td> 15</td>\n",
        "      <td>-0.372688</td>\n",
        "    </tr>\n",
        "    <tr>\n",
        "      <th>15 </th>\n",
        "      <td> 2006</td>\n",
        "      <td> 16</td>\n",
        "      <td> 0.578866</td>\n",
        "    </tr>\n",
        "    <tr>\n",
        "      <th>16 </th>\n",
        "      <td> 2006</td>\n",
        "      <td> 17</td>\n",
        "      <td> 0.533914</td>\n",
        "    </tr>\n",
        "    <tr>\n",
        "      <th>17 </th>\n",
        "      <td> 2006</td>\n",
        "      <td> 18</td>\n",
        "      <td> 0.560763</td>\n",
        "    </tr>\n",
        "    <tr>\n",
        "      <th>18 </th>\n",
        "      <td> 2006</td>\n",
        "      <td> 19</td>\n",
        "      <td> 0.236702</td>\n",
        "    </tr>\n",
        "    <tr>\n",
        "      <th>19 </th>\n",
        "      <td> 2006</td>\n",
        "      <td> 20</td>\n",
        "      <td> 0.586063</td>\n",
        "    </tr>\n",
        "    <tr>\n",
        "      <th>20 </th>\n",
        "      <td> 2006</td>\n",
        "      <td> 21</td>\n",
        "      <td> 0.327810</td>\n",
        "    </tr>\n",
        "    <tr>\n",
        "      <th>21 </th>\n",
        "      <td> 2006</td>\n",
        "      <td> 22</td>\n",
        "      <td> 0.054913</td>\n",
        "    </tr>\n",
        "    <tr>\n",
        "      <th>22 </th>\n",
        "      <td> 2006</td>\n",
        "      <td> 23</td>\n",
        "      <td> 0.517321</td>\n",
        "    </tr>\n",
        "    <tr>\n",
        "      <th>23 </th>\n",
        "      <td> 2006</td>\n",
        "      <td> 24</td>\n",
        "      <td> 0.646441</td>\n",
        "    </tr>\n",
        "    <tr>\n",
        "      <th>24 </th>\n",
        "      <td> 2006</td>\n",
        "      <td> 25</td>\n",
        "      <td> 0.488728</td>\n",
        "    </tr>\n",
        "    <tr>\n",
        "      <th>25 </th>\n",
        "      <td> 2006</td>\n",
        "      <td> 26</td>\n",
        "      <td> 0.589400</td>\n",
        "    </tr>\n",
        "    <tr>\n",
        "      <th>26 </th>\n",
        "      <td> 2006</td>\n",
        "      <td> 27</td>\n",
        "      <td> 0.502101</td>\n",
        "    </tr>\n",
        "    <tr>\n",
        "      <th>27 </th>\n",
        "      <td> 2006</td>\n",
        "      <td> 28</td>\n",
        "      <td> 0.688275</td>\n",
        "    </tr>\n",
        "    <tr>\n",
        "      <th>28 </th>\n",
        "      <td> 2006</td>\n",
        "      <td> 29</td>\n",
        "      <td> 0.395858</td>\n",
        "    </tr>\n",
        "    <tr>\n",
        "      <th>29 </th>\n",
        "      <td> 2006</td>\n",
        "      <td> 30</td>\n",
        "      <td> 0.389718</td>\n",
        "    </tr>\n",
        "    <tr>\n",
        "      <th>...</th>\n",
        "      <td>...</td>\n",
        "      <td>...</td>\n",
        "      <td>...</td>\n",
        "    </tr>\n",
        "    <tr>\n",
        "      <th>390</th>\n",
        "      <td> 2013</td>\n",
        "      <td> 25</td>\n",
        "      <td> 0.370647</td>\n",
        "    </tr>\n",
        "    <tr>\n",
        "      <th>391</th>\n",
        "      <td> 2013</td>\n",
        "      <td> 26</td>\n",
        "      <td> 0.351362</td>\n",
        "    </tr>\n",
        "    <tr>\n",
        "      <th>392</th>\n",
        "      <td> 2013</td>\n",
        "      <td> 27</td>\n",
        "      <td>-0.036022</td>\n",
        "    </tr>\n",
        "    <tr>\n",
        "      <th>393</th>\n",
        "      <td> 2013</td>\n",
        "      <td> 28</td>\n",
        "      <td> 0.272897</td>\n",
        "    </tr>\n",
        "    <tr>\n",
        "      <th>394</th>\n",
        "      <td> 2013</td>\n",
        "      <td> 29</td>\n",
        "      <td> 0.341985</td>\n",
        "    </tr>\n",
        "    <tr>\n",
        "      <th>395</th>\n",
        "      <td> 2013</td>\n",
        "      <td> 30</td>\n",
        "      <td> 0.276986</td>\n",
        "    </tr>\n",
        "    <tr>\n",
        "      <th>396</th>\n",
        "      <td> 2013</td>\n",
        "      <td> 31</td>\n",
        "      <td> 0.001252</td>\n",
        "    </tr>\n",
        "    <tr>\n",
        "      <th>397</th>\n",
        "      <td> 2013</td>\n",
        "      <td> 32</td>\n",
        "      <td> 0.183036</td>\n",
        "    </tr>\n",
        "    <tr>\n",
        "      <th>398</th>\n",
        "      <td> 2013</td>\n",
        "      <td> 33</td>\n",
        "      <td> 0.165377</td>\n",
        "    </tr>\n",
        "    <tr>\n",
        "      <th>399</th>\n",
        "      <td> 2013</td>\n",
        "      <td> 34</td>\n",
        "      <td> 0.480024</td>\n",
        "    </tr>\n",
        "    <tr>\n",
        "      <th>400</th>\n",
        "      <td> 2013</td>\n",
        "      <td> 35</td>\n",
        "      <td> 0.158258</td>\n",
        "    </tr>\n",
        "    <tr>\n",
        "      <th>401</th>\n",
        "      <td> 2013</td>\n",
        "      <td> 36</td>\n",
        "      <td> 0.340046</td>\n",
        "    </tr>\n",
        "    <tr>\n",
        "      <th>402</th>\n",
        "      <td> 2013</td>\n",
        "      <td> 37</td>\n",
        "      <td>-0.025714</td>\n",
        "    </tr>\n",
        "    <tr>\n",
        "      <th>403</th>\n",
        "      <td> 2013</td>\n",
        "      <td> 38</td>\n",
        "      <td> 0.217496</td>\n",
        "    </tr>\n",
        "    <tr>\n",
        "      <th>404</th>\n",
        "      <td> 2013</td>\n",
        "      <td> 39</td>\n",
        "      <td> 0.459600</td>\n",
        "    </tr>\n",
        "    <tr>\n",
        "      <th>405</th>\n",
        "      <td> 2013</td>\n",
        "      <td> 40</td>\n",
        "      <td> 0.091964</td>\n",
        "    </tr>\n",
        "    <tr>\n",
        "      <th>406</th>\n",
        "      <td> 2013</td>\n",
        "      <td> 41</td>\n",
        "      <td> 0.293874</td>\n",
        "    </tr>\n",
        "    <tr>\n",
        "      <th>407</th>\n",
        "      <td> 2013</td>\n",
        "      <td> 42</td>\n",
        "      <td> 0.181145</td>\n",
        "    </tr>\n",
        "    <tr>\n",
        "      <th>408</th>\n",
        "      <td> 2013</td>\n",
        "      <td> 43</td>\n",
        "      <td> 0.149325</td>\n",
        "    </tr>\n",
        "    <tr>\n",
        "      <th>409</th>\n",
        "      <td> 2013</td>\n",
        "      <td> 44</td>\n",
        "      <td> 0.180491</td>\n",
        "    </tr>\n",
        "    <tr>\n",
        "      <th>410</th>\n",
        "      <td> 2013</td>\n",
        "      <td> 45</td>\n",
        "      <td> 0.306250</td>\n",
        "    </tr>\n",
        "    <tr>\n",
        "      <th>411</th>\n",
        "      <td> 2013</td>\n",
        "      <td> 46</td>\n",
        "      <td> 0.180804</td>\n",
        "    </tr>\n",
        "    <tr>\n",
        "      <th>412</th>\n",
        "      <td> 2013</td>\n",
        "      <td> 47</td>\n",
        "      <td> 0.146376</td>\n",
        "    </tr>\n",
        "    <tr>\n",
        "      <th>413</th>\n",
        "      <td> 2013</td>\n",
        "      <td> 48</td>\n",
        "      <td> 0.237799</td>\n",
        "    </tr>\n",
        "    <tr>\n",
        "      <th>414</th>\n",
        "      <td> 2013</td>\n",
        "      <td> 49</td>\n",
        "      <td> 0.274780</td>\n",
        "    </tr>\n",
        "    <tr>\n",
        "      <th>415</th>\n",
        "      <td> 2013</td>\n",
        "      <td> 50</td>\n",
        "      <td> 0.312480</td>\n",
        "    </tr>\n",
        "    <tr>\n",
        "      <th>416</th>\n",
        "      <td> 2013</td>\n",
        "      <td> 51</td>\n",
        "      <td> 0.206959</td>\n",
        "    </tr>\n",
        "    <tr>\n",
        "      <th>417</th>\n",
        "      <td> 2013</td>\n",
        "      <td> 52</td>\n",
        "      <td> 0.211411</td>\n",
        "    </tr>\n",
        "    <tr>\n",
        "      <th>418</th>\n",
        "      <td> 2014</td>\n",
        "      <td>  1</td>\n",
        "      <td> 0.381041</td>\n",
        "    </tr>\n",
        "    <tr>\n",
        "      <th>419</th>\n",
        "      <td> 2014</td>\n",
        "      <td>  2</td>\n",
        "      <td> 0.480540</td>\n",
        "    </tr>\n",
        "  </tbody>\n",
        "</table>\n",
        "<p>420 rows \u00d7 3 columns</p>\n",
        "</div>"
       ],
       "metadata": {},
       "output_type": "pyout",
       "prompt_number": 21,
       "text": [
        "     level_0  level_1         0\n",
        "0       2006        1  0.478289\n",
        "1       2006        2  0.663151\n",
        "2       2006        3  0.015667\n",
        "3       2006        4  0.035093\n",
        "4       2006        5  0.493773\n",
        "5       2006        6  0.674519\n",
        "6       2006        7  0.306276\n",
        "7       2006        8  0.435993\n",
        "8       2006        9  0.363964\n",
        "9       2006       10  0.459939\n",
        "10      2006       11  0.369484\n",
        "11      2006       12  0.120423\n",
        "12      2006       13 -0.036348\n",
        "13      2006       14  0.134022\n",
        "14      2006       15 -0.372688\n",
        "15      2006       16  0.578866\n",
        "16      2006       17  0.533914\n",
        "17      2006       18  0.560763\n",
        "18      2006       19  0.236702\n",
        "19      2006       20  0.586063\n",
        "20      2006       21  0.327810\n",
        "21      2006       22  0.054913\n",
        "22      2006       23  0.517321\n",
        "23      2006       24  0.646441\n",
        "24      2006       25  0.488728\n",
        "25      2006       26  0.589400\n",
        "26      2006       27  0.502101\n",
        "27      2006       28  0.688275\n",
        "28      2006       29  0.395858\n",
        "29      2006       30  0.389718\n",
        "..       ...      ...       ...\n",
        "390     2013       25  0.370647\n",
        "391     2013       26  0.351362\n",
        "392     2013       27 -0.036022\n",
        "393     2013       28  0.272897\n",
        "394     2013       29  0.341985\n",
        "395     2013       30  0.276986\n",
        "396     2013       31  0.001252\n",
        "397     2013       32  0.183036\n",
        "398     2013       33  0.165377\n",
        "399     2013       34  0.480024\n",
        "400     2013       35  0.158258\n",
        "401     2013       36  0.340046\n",
        "402     2013       37 -0.025714\n",
        "403     2013       38  0.217496\n",
        "404     2013       39  0.459600\n",
        "405     2013       40  0.091964\n",
        "406     2013       41  0.293874\n",
        "407     2013       42  0.181145\n",
        "408     2013       43  0.149325\n",
        "409     2013       44  0.180491\n",
        "410     2013       45  0.306250\n",
        "411     2013       46  0.180804\n",
        "412     2013       47  0.146376\n",
        "413     2013       48  0.237799\n",
        "414     2013       49  0.274780\n",
        "415     2013       50  0.312480\n",
        "416     2013       51  0.206959\n",
        "417     2013       52  0.211411\n",
        "418     2014        1  0.381041\n",
        "419     2014        2  0.480540\n",
        "\n",
        "[420 rows x 3 columns]"
       ]
      }
     ],
     "prompt_number": 21
    },
    {
     "cell_type": "code",
     "collapsed": false,
     "input": [
      "pd.to_datetime((spearman.level_0).apply(str)+\"-\"+(spearman.level_1-1).apply(str), format='%Y-%W')"
     ],
     "language": "python",
     "metadata": {},
     "outputs": [
      {
       "metadata": {},
       "output_type": "pyout",
       "prompt_number": 22,
       "text": [
        "0    2006-01-01\n",
        "1    2006-01-01\n",
        "2    2006-01-01\n",
        "3    2006-01-01\n",
        "4    2006-01-01\n",
        "5    2006-01-01\n",
        "6    2006-01-01\n",
        "7    2006-01-01\n",
        "8    2006-01-01\n",
        "9    2006-01-01\n",
        "10   2006-01-01\n",
        "11   2006-01-01\n",
        "12   2006-01-01\n",
        "13   2006-01-01\n",
        "14   2006-01-01\n",
        "...\n",
        "405   2013-01-01\n",
        "406   2013-01-01\n",
        "407   2013-01-01\n",
        "408   2013-01-01\n",
        "409   2013-01-01\n",
        "410   2013-01-01\n",
        "411   2013-01-01\n",
        "412   2013-01-01\n",
        "413   2013-01-01\n",
        "414   2013-01-01\n",
        "415   2013-01-01\n",
        "416   2013-01-01\n",
        "417   2013-01-01\n",
        "418   2014-01-01\n",
        "419   2014-01-01\n",
        "Length: 420, dtype: datetime64[ns]"
       ]
      }
     ],
     "prompt_number": 22
    },
    {
     "cell_type": "code",
     "collapsed": false,
     "input": [
      "spearman.index = pd.to_datetime((spearman.level_0).apply(str)+\"-\"+(spearman.level_1-1).apply(str), format='%Y-%W')"
     ],
     "language": "python",
     "metadata": {},
     "outputs": [],
     "prompt_number": 23
    },
    {
     "cell_type": "markdown",
     "metadata": {},
     "source": [
      "###Now let's go through all columns"
     ]
    },
    {
     "cell_type": "code",
     "collapsed": false,
     "input": [
      "spearmans = pd.DataFrame()\n",
      "\n",
      "for datapoint in df.columns:\n",
      "    try:\n",
      "        combined = pd.merge(pd.DataFrame(df[datapoint]), df_DB_hourly, right_index=True, left_index=True, how='left')\n",
      "        combined = combined.dropna()\n",
      "        spearman = combined.groupby([lambda x: x.year, lambda x: x.month]).apply(lambda x: stats.spearmanr(x[datapoint], x[\"A [Grad C]\"])[0])\n",
      "        spearman = spearman.reset_index()\n",
      "        spearman.index = pd.to_datetime((spearman.level_0*100 + spearman.level_1).apply(str), format='%Y%m')\n",
      "        spearmans[datapoint] = spearman[0]\n",
      "        print \"Finished loading \"+datapoint\n",
      "    except:\n",
      "        print datapoint+\" not loaded\""
     ],
     "language": "python",
     "metadata": {},
     "outputs": [
      {
       "output_type": "stream",
       "stream": "stdout",
       "text": [
        "Finished loading 26\n",
        "Finished loading 27"
       ]
      },
      {
       "output_type": "stream",
       "stream": "stdout",
       "text": [
        "\n",
        "Finished loading 28"
       ]
      },
      {
       "output_type": "stream",
       "stream": "stdout",
       "text": [
        "\n",
        "Finished loading 32"
       ]
      },
      {
       "output_type": "stream",
       "stream": "stdout",
       "text": [
        "\n",
        "Finished loading 34\n",
        "Finished loading 35"
       ]
      },
      {
       "output_type": "stream",
       "stream": "stdout",
       "text": [
        "\n",
        "Finished loading 63"
       ]
      },
      {
       "output_type": "stream",
       "stream": "stdout",
       "text": [
        "\n",
        "Finished loading 67\n",
        "Finished loading 68"
       ]
      },
      {
       "output_type": "stream",
       "stream": "stdout",
       "text": [
        "\n",
        "Finished loading 69"
       ]
      },
      {
       "output_type": "stream",
       "stream": "stdout",
       "text": [
        "\n",
        "Finished loading 70\n",
        "Finished loading 71"
       ]
      },
      {
       "output_type": "stream",
       "stream": "stdout",
       "text": [
        "\n",
        "Finished loading 72"
       ]
      },
      {
       "output_type": "stream",
       "stream": "stdout",
       "text": [
        "\n",
        "Finished loading 73"
       ]
      },
      {
       "output_type": "stream",
       "stream": "stdout",
       "text": [
        "\n",
        "Finished loading 74"
       ]
      },
      {
       "output_type": "stream",
       "stream": "stdout",
       "text": [
        "\n",
        "Finished loading 75\n",
        "Finished loading 76"
       ]
      },
      {
       "output_type": "stream",
       "stream": "stdout",
       "text": [
        "\n",
        "Finished loading 77"
       ]
      },
      {
       "output_type": "stream",
       "stream": "stdout",
       "text": [
        "\n",
        "Finished loading 78\n",
        "Finished loading 79"
       ]
      },
      {
       "output_type": "stream",
       "stream": "stdout",
       "text": [
        "\n",
        "Finished loading 80"
       ]
      },
      {
       "output_type": "stream",
       "stream": "stdout",
       "text": [
        "\n",
        "Finished loading 81"
       ]
      },
      {
       "output_type": "stream",
       "stream": "stdout",
       "text": [
        "\n",
        "Finished loading 82"
       ]
      },
      {
       "output_type": "stream",
       "stream": "stdout",
       "text": [
        "\n",
        "Finished loading 83"
       ]
      },
      {
       "output_type": "stream",
       "stream": "stdout",
       "text": [
        "\n",
        "Finished loading 84"
       ]
      },
      {
       "output_type": "stream",
       "stream": "stdout",
       "text": [
        "\n",
        "Finished loading 86\n",
        "Finished loading 95\n",
        "Finished loading 96"
       ]
      },
      {
       "output_type": "stream",
       "stream": "stdout",
       "text": [
        "\n",
        "Finished loading 97"
       ]
      },
      {
       "output_type": "stream",
       "stream": "stdout",
       "text": [
        "\n",
        "Finished loading 102"
       ]
      },
      {
       "output_type": "stream",
       "stream": "stdout",
       "text": [
        "\n",
        "Finished loading 103"
       ]
      },
      {
       "output_type": "stream",
       "stream": "stdout",
       "text": [
        "\n",
        "Finished loading 104"
       ]
      },
      {
       "output_type": "stream",
       "stream": "stdout",
       "text": [
        "\n",
        "Finished loading 105"
       ]
      },
      {
       "output_type": "stream",
       "stream": "stdout",
       "text": [
        "\n",
        "Finished loading 130"
       ]
      },
      {
       "output_type": "stream",
       "stream": "stdout",
       "text": [
        "\n",
        "134 not loaded\n",
        "Finished loading 135"
       ]
      },
      {
       "output_type": "stream",
       "stream": "stdout",
       "text": [
        "\n",
        "Finished loading 136"
       ]
      },
      {
       "output_type": "stream",
       "stream": "stdout",
       "text": [
        "\n",
        "Finished loading 137"
       ]
      },
      {
       "output_type": "stream",
       "stream": "stdout",
       "text": [
        "\n",
        "Finished loading 138"
       ]
      },
      {
       "output_type": "stream",
       "stream": "stdout",
       "text": [
        "\n",
        "Finished loading 139"
       ]
      },
      {
       "output_type": "stream",
       "stream": "stdout",
       "text": [
        "\n",
        "140 not loaded\n",
        "Finished loading 141"
       ]
      },
      {
       "output_type": "stream",
       "stream": "stdout",
       "text": [
        "\n",
        "Finished loading 142"
       ]
      },
      {
       "output_type": "stream",
       "stream": "stdout",
       "text": [
        "\n",
        "Finished loading 143"
       ]
      },
      {
       "output_type": "stream",
       "stream": "stdout",
       "text": [
        "\n",
        "Finished loading 144"
       ]
      },
      {
       "output_type": "stream",
       "stream": "stdout",
       "text": [
        "\n",
        "Finished loading 153\n",
        "Finished loading 154"
       ]
      },
      {
       "output_type": "stream",
       "stream": "stdout",
       "text": [
        "\n",
        "Finished loading 157"
       ]
      },
      {
       "output_type": "stream",
       "stream": "stdout",
       "text": [
        "\n",
        "Finished loading 158\n",
        "Finished loading 185"
       ]
      },
      {
       "output_type": "stream",
       "stream": "stdout",
       "text": [
        "\n",
        "Finished loading 186"
       ]
      },
      {
       "output_type": "stream",
       "stream": "stdout",
       "text": [
        "\n",
        "188 not loaded\n",
        "Finished loading 189"
       ]
      },
      {
       "output_type": "stream",
       "stream": "stdout",
       "text": [
        "\n",
        "Finished loading 190"
       ]
      },
      {
       "output_type": "stream",
       "stream": "stdout",
       "text": [
        "\n",
        "Finished loading 191"
       ]
      },
      {
       "output_type": "stream",
       "stream": "stdout",
       "text": [
        "\n",
        "192 not loaded\n",
        "Finished loading 193"
       ]
      },
      {
       "output_type": "stream",
       "stream": "stdout",
       "text": [
        "\n",
        "Finished loading 194"
       ]
      },
      {
       "output_type": "stream",
       "stream": "stdout",
       "text": [
        "\n",
        "Finished loading 195"
       ]
      },
      {
       "output_type": "stream",
       "stream": "stdout",
       "text": [
        "\n",
        "Finished loading 196"
       ]
      },
      {
       "output_type": "stream",
       "stream": "stdout",
       "text": [
        "\n",
        "Finished loading 197"
       ]
      },
      {
       "output_type": "stream",
       "stream": "stdout",
       "text": [
        "\n",
        "Finished loading 198"
       ]
      },
      {
       "output_type": "stream",
       "stream": "stdout",
       "text": [
        "\n",
        "199 not loaded\n",
        "Finished loading 200"
       ]
      },
      {
       "output_type": "stream",
       "stream": "stdout",
       "text": [
        "\n",
        "Finished loading 201\n",
        "Finished loading 202"
       ]
      },
      {
       "output_type": "stream",
       "stream": "stdout",
       "text": [
        "\n",
        "Finished loading 205"
       ]
      },
      {
       "output_type": "stream",
       "stream": "stdout",
       "text": [
        "\n",
        "Finished loading 207"
       ]
      },
      {
       "output_type": "stream",
       "stream": "stdout",
       "text": [
        "\n",
        "Finished loading 231"
       ]
      },
      {
       "output_type": "stream",
       "stream": "stdout",
       "text": [
        "\n",
        "Finished loading 234"
       ]
      },
      {
       "output_type": "stream",
       "stream": "stdout",
       "text": [
        "\n",
        "235 not loaded\n",
        "Finished loading 236\n",
        "Finished loading 237"
       ]
      },
      {
       "output_type": "stream",
       "stream": "stdout",
       "text": [
        "\n",
        "Finished loading 238\n",
        "Finished loading 239\n",
        "Finished loading 240"
       ]
      },
      {
       "output_type": "stream",
       "stream": "stdout",
       "text": [
        "\n",
        "Finished loading 241"
       ]
      },
      {
       "output_type": "stream",
       "stream": "stdout",
       "text": [
        "\n",
        "Finished loading 242\n",
        "Finished loading 243"
       ]
      },
      {
       "output_type": "stream",
       "stream": "stdout",
       "text": [
        "\n",
        "244 not loaded\n",
        "Finished loading 245\n",
        "Finished loading 246"
       ]
      },
      {
       "output_type": "stream",
       "stream": "stdout",
       "text": [
        "\n",
        "Finished loading 251"
       ]
      },
      {
       "output_type": "stream",
       "stream": "stdout",
       "text": [
        "\n",
        "Finished loading 252\n",
        "Finished loading 257\n",
        "Finished loading 258"
       ]
      },
      {
       "output_type": "stream",
       "stream": "stdout",
       "text": [
        "\n",
        "Finished loading 259"
       ]
      },
      {
       "output_type": "stream",
       "stream": "stdout",
       "text": [
        "\n",
        "Finished loading 290"
       ]
      },
      {
       "output_type": "stream",
       "stream": "stdout",
       "text": [
        "\n",
        "291 not loaded\n",
        "294 not loaded\n",
        "Finished loading 295"
       ]
      },
      {
       "output_type": "stream",
       "stream": "stdout",
       "text": [
        "\n",
        "Finished loading 296"
       ]
      },
      {
       "output_type": "stream",
       "stream": "stdout",
       "text": [
        "\n",
        "Finished loading 297"
       ]
      },
      {
       "output_type": "stream",
       "stream": "stdout",
       "text": [
        "\n",
        "Finished loading 298"
       ]
      },
      {
       "output_type": "stream",
       "stream": "stdout",
       "text": [
        "\n",
        "Finished loading 299\n",
        "Finished loading 300"
       ]
      },
      {
       "output_type": "stream",
       "stream": "stdout",
       "text": [
        "\n",
        "Finished loading 301"
       ]
      },
      {
       "output_type": "stream",
       "stream": "stdout",
       "text": [
        "\n",
        "Finished loading 302"
       ]
      },
      {
       "output_type": "stream",
       "stream": "stdout",
       "text": [
        "\n",
        "303 not loaded\n",
        "Finished loading 304\n",
        "Finished loading 305"
       ]
      },
      {
       "output_type": "stream",
       "stream": "stdout",
       "text": [
        "\n",
        "Finished loading 306"
       ]
      },
      {
       "output_type": "stream",
       "stream": "stdout",
       "text": [
        "\n",
        "Finished loading 307"
       ]
      },
      {
       "output_type": "stream",
       "stream": "stdout",
       "text": [
        "\n",
        "Finished loading 308"
       ]
      },
      {
       "output_type": "stream",
       "stream": "stdout",
       "text": [
        "\n",
        "Finished loading 309"
       ]
      },
      {
       "output_type": "stream",
       "stream": "stdout",
       "text": [
        "\n",
        "Finished loading 310"
       ]
      },
      {
       "output_type": "stream",
       "stream": "stdout",
       "text": [
        "\n",
        "Finished loading 311\n",
        "Finished loading 312"
       ]
      },
      {
       "output_type": "stream",
       "stream": "stdout",
       "text": [
        "\n",
        "Finished loading 325"
       ]
      },
      {
       "output_type": "stream",
       "stream": "stdout",
       "text": [
        "\n",
        "Finished loading 326"
       ]
      },
      {
       "output_type": "stream",
       "stream": "stdout",
       "text": [
        "\n",
        "Finished loading 327"
       ]
      },
      {
       "output_type": "stream",
       "stream": "stdout",
       "text": [
        "\n",
        "Finished loading 328"
       ]
      },
      {
       "output_type": "stream",
       "stream": "stdout",
       "text": [
        "\n",
        "Finished loading 329"
       ]
      },
      {
       "output_type": "stream",
       "stream": "stdout",
       "text": [
        "\n",
        "Finished loading 330"
       ]
      },
      {
       "output_type": "stream",
       "stream": "stdout",
       "text": [
        "\n",
        "Finished loading 331"
       ]
      },
      {
       "output_type": "stream",
       "stream": "stdout",
       "text": [
        "\n",
        "Finished loading 332"
       ]
      },
      {
       "output_type": "stream",
       "stream": "stdout",
       "text": [
        "\n",
        "Finished loading 333\n",
        "Finished loading 354"
       ]
      },
      {
       "output_type": "stream",
       "stream": "stdout",
       "text": [
        "\n",
        "355 not loaded\n",
        "Finished loading 356\n",
        "Finished loading 357\n",
        "Finished loading 359"
       ]
      },
      {
       "output_type": "stream",
       "stream": "stdout",
       "text": [
        "\n",
        "Finished loading 381"
       ]
      },
      {
       "output_type": "stream",
       "stream": "stdout",
       "text": [
        "\n",
        "Finished loading 382"
       ]
      },
      {
       "output_type": "stream",
       "stream": "stdout",
       "text": [
        "\n",
        "385 not loaded\n",
        "Finished loading 386\n",
        "Finished loading 387"
       ]
      },
      {
       "output_type": "stream",
       "stream": "stdout",
       "text": [
        "\n",
        "Finished loading 388"
       ]
      },
      {
       "output_type": "stream",
       "stream": "stdout",
       "text": [
        "\n",
        "Finished loading 389"
       ]
      },
      {
       "output_type": "stream",
       "stream": "stdout",
       "text": [
        "\n",
        "Finished loading 390\n",
        "Finished loading 391\n",
        "Finished loading 392\n",
        "393 not loaded\n",
        "Finished loading 394"
       ]
      },
      {
       "output_type": "stream",
       "stream": "stdout",
       "text": [
        "\n",
        "Finished loading 403"
       ]
      },
      {
       "output_type": "stream",
       "stream": "stdout",
       "text": [
        "\n",
        "Finished loading 404"
       ]
      },
      {
       "output_type": "stream",
       "stream": "stdout",
       "text": [
        "\n",
        "Finished loading 405"
       ]
      },
      {
       "output_type": "stream",
       "stream": "stdout",
       "text": [
        "\n",
        "Finished loading 406"
       ]
      },
      {
       "output_type": "stream",
       "stream": "stdout",
       "text": [
        "\n",
        "Finished loading 407"
       ]
      },
      {
       "output_type": "stream",
       "stream": "stdout",
       "text": [
        "\n",
        "Finished loading 408"
       ]
      },
      {
       "output_type": "stream",
       "stream": "stdout",
       "text": [
        "\n",
        "Finished loading 418"
       ]
      },
      {
       "output_type": "stream",
       "stream": "stdout",
       "text": [
        "\n",
        "Finished loading 419"
       ]
      },
      {
       "output_type": "stream",
       "stream": "stdout",
       "text": [
        "\n",
        "Finished loading 420"
       ]
      },
      {
       "output_type": "stream",
       "stream": "stdout",
       "text": [
        "\n",
        "Finished loading 429"
       ]
      },
      {
       "output_type": "stream",
       "stream": "stdout",
       "text": [
        "\n",
        "Finished loading 430"
       ]
      },
      {
       "output_type": "stream",
       "stream": "stdout",
       "text": [
        "\n",
        "Finished loading 433"
       ]
      },
      {
       "output_type": "stream",
       "stream": "stdout",
       "text": [
        "\n",
        "Finished loading 434"
       ]
      },
      {
       "output_type": "stream",
       "stream": "stdout",
       "text": [
        "\n",
        "Finished loading 435\n",
        "Finished loading 442"
       ]
      },
      {
       "output_type": "stream",
       "stream": "stdout",
       "text": [
        "\n",
        "Finished loading 443"
       ]
      },
      {
       "output_type": "stream",
       "stream": "stdout",
       "text": [
        "\n",
        "Finished loading 444"
       ]
      },
      {
       "output_type": "stream",
       "stream": "stdout",
       "text": [
        "\n",
        "Finished loading 446"
       ]
      },
      {
       "output_type": "stream",
       "stream": "stdout",
       "text": [
        "\n",
        "Finished loading 447"
       ]
      },
      {
       "output_type": "stream",
       "stream": "stdout",
       "text": [
        "\n",
        "Finished loading 452\n",
        "Finished loading 453"
       ]
      },
      {
       "output_type": "stream",
       "stream": "stdout",
       "text": [
        "\n",
        "Finished loading 498"
       ]
      },
      {
       "output_type": "stream",
       "stream": "stdout",
       "text": [
        "\n",
        "Finished loading 499\n",
        "Finished loading 500"
       ]
      },
      {
       "output_type": "stream",
       "stream": "stdout",
       "text": [
        "\n",
        "Finished loading 501\n",
        "Finished loading 502"
       ]
      },
      {
       "output_type": "stream",
       "stream": "stdout",
       "text": [
        "\n",
        "Finished loading 503"
       ]
      },
      {
       "output_type": "stream",
       "stream": "stdout",
       "text": [
        "\n",
        "Finished loading 504"
       ]
      },
      {
       "output_type": "stream",
       "stream": "stdout",
       "text": [
        "\n",
        "Finished loading 505"
       ]
      },
      {
       "output_type": "stream",
       "stream": "stdout",
       "text": [
        "\n",
        "Finished loading 506"
       ]
      },
      {
       "output_type": "stream",
       "stream": "stdout",
       "text": [
        "\n",
        "Finished loading 507\n",
        "Finished loading 508\n",
        "Finished loading 509"
       ]
      },
      {
       "output_type": "stream",
       "stream": "stdout",
       "text": [
        "\n",
        "Finished loading 510\n",
        "Finished loading 511"
       ]
      },
      {
       "output_type": "stream",
       "stream": "stdout",
       "text": [
        "\n",
        "Finished loading 512"
       ]
      },
      {
       "output_type": "stream",
       "stream": "stdout",
       "text": [
        "\n",
        "Finished loading 513"
       ]
      },
      {
       "output_type": "stream",
       "stream": "stdout",
       "text": [
        "\n",
        "Finished loading 514\n",
        "Finished loading 515"
       ]
      },
      {
       "output_type": "stream",
       "stream": "stdout",
       "text": [
        "\n",
        "Finished loading 516\n",
        "Finished loading 517"
       ]
      },
      {
       "output_type": "stream",
       "stream": "stdout",
       "text": [
        "\n",
        "Finished loading 518"
       ]
      },
      {
       "output_type": "stream",
       "stream": "stdout",
       "text": [
        "\n",
        "Finished loading 519"
       ]
      },
      {
       "output_type": "stream",
       "stream": "stdout",
       "text": [
        "\n",
        "Finished loading 520"
       ]
      },
      {
       "output_type": "stream",
       "stream": "stdout",
       "text": [
        "\n",
        "Finished loading 521"
       ]
      },
      {
       "output_type": "stream",
       "stream": "stdout",
       "text": [
        "\n",
        "Finished loading 522"
       ]
      },
      {
       "output_type": "stream",
       "stream": "stdout",
       "text": [
        "\n",
        "Finished loading 523"
       ]
      },
      {
       "output_type": "stream",
       "stream": "stdout",
       "text": [
        "\n",
        "Finished loading 524"
       ]
      },
      {
       "output_type": "stream",
       "stream": "stdout",
       "text": [
        "\n",
        "Finished loading 525"
       ]
      },
      {
       "output_type": "stream",
       "stream": "stdout",
       "text": [
        "\n",
        "Finished loading 526"
       ]
      },
      {
       "output_type": "stream",
       "stream": "stdout",
       "text": [
        "\n",
        "Finished loading 527"
       ]
      },
      {
       "output_type": "stream",
       "stream": "stdout",
       "text": [
        "\n",
        "Finished loading 546"
       ]
      },
      {
       "output_type": "stream",
       "stream": "stdout",
       "text": [
        "\n",
        "Finished loading 547"
       ]
      },
      {
       "output_type": "stream",
       "stream": "stdout",
       "text": [
        "\n",
        "Finished loading 548"
       ]
      },
      {
       "output_type": "stream",
       "stream": "stdout",
       "text": [
        "\n",
        "Finished loading 549\n",
        "Finished loading 550"
       ]
      },
      {
       "output_type": "stream",
       "stream": "stdout",
       "text": [
        "\n",
        "Finished loading 551"
       ]
      },
      {
       "output_type": "stream",
       "stream": "stdout",
       "text": [
        "\n",
        "Finished loading 552"
       ]
      },
      {
       "output_type": "stream",
       "stream": "stdout",
       "text": [
        "\n",
        "Finished loading 553"
       ]
      },
      {
       "output_type": "stream",
       "stream": "stdout",
       "text": [
        "\n",
        "Finished loading 554\n",
        "Finished loading 555"
       ]
      },
      {
       "output_type": "stream",
       "stream": "stdout",
       "text": [
        "\n",
        "Finished loading 556\n",
        "Finished loading 558"
       ]
      },
      {
       "output_type": "stream",
       "stream": "stdout",
       "text": [
        "\n",
        "Finished loading 559"
       ]
      },
      {
       "output_type": "stream",
       "stream": "stdout",
       "text": [
        "\n",
        "Finished loading 560\n",
        "Finished loading 612"
       ]
      },
      {
       "output_type": "stream",
       "stream": "stdout",
       "text": [
        "\n",
        "Finished loading 613"
       ]
      },
      {
       "output_type": "stream",
       "stream": "stdout",
       "text": [
        "\n",
        "Finished loading 614"
       ]
      },
      {
       "output_type": "stream",
       "stream": "stdout",
       "text": [
        "\n",
        "Finished loading 615"
       ]
      },
      {
       "output_type": "stream",
       "stream": "stdout",
       "text": [
        "\n",
        "Finished loading 616"
       ]
      },
      {
       "output_type": "stream",
       "stream": "stdout",
       "text": [
        "\n",
        "Finished loading 617"
       ]
      },
      {
       "output_type": "stream",
       "stream": "stdout",
       "text": [
        "\n",
        "Finished loading 618"
       ]
      },
      {
       "output_type": "stream",
       "stream": "stdout",
       "text": [
        "\n",
        "Finished loading 619"
       ]
      },
      {
       "output_type": "stream",
       "stream": "stdout",
       "text": [
        "\n",
        "Finished loading 620"
       ]
      },
      {
       "output_type": "stream",
       "stream": "stdout",
       "text": [
        "\n",
        "Finished loading 621"
       ]
      },
      {
       "output_type": "stream",
       "stream": "stdout",
       "text": [
        "\n",
        "Finished loading 622"
       ]
      },
      {
       "output_type": "stream",
       "stream": "stdout",
       "text": [
        "\n",
        "Finished loading 623"
       ]
      },
      {
       "output_type": "stream",
       "stream": "stdout",
       "text": [
        "\n",
        "Finished loading 624"
       ]
      },
      {
       "output_type": "stream",
       "stream": "stdout",
       "text": [
        "\n",
        "Finished loading 694"
       ]
      },
      {
       "output_type": "stream",
       "stream": "stdout",
       "text": [
        "\n",
        "Finished loading 695\n",
        "Finished loading 696"
       ]
      },
      {
       "output_type": "stream",
       "stream": "stdout",
       "text": [
        "\n",
        "Finished loading 697"
       ]
      },
      {
       "output_type": "stream",
       "stream": "stdout",
       "text": [
        "\n",
        "Finished loading 698"
       ]
      },
      {
       "output_type": "stream",
       "stream": "stdout",
       "text": [
        "\n",
        "Finished loading 699"
       ]
      },
      {
       "output_type": "stream",
       "stream": "stdout",
       "text": [
        "\n",
        "Finished loading 701"
       ]
      },
      {
       "output_type": "stream",
       "stream": "stdout",
       "text": [
        "\n",
        "Finished loading 702"
       ]
      },
      {
       "output_type": "stream",
       "stream": "stdout",
       "text": [
        "\n",
        "Finished loading 706"
       ]
      },
      {
       "output_type": "stream",
       "stream": "stdout",
       "text": [
        "\n",
        "Finished loading 707"
       ]
      },
      {
       "output_type": "stream",
       "stream": "stdout",
       "text": [
        "\n",
        "Finished loading 708"
       ]
      },
      {
       "output_type": "stream",
       "stream": "stdout",
       "text": [
        "\n",
        "Finished loading 715\n",
        "Finished loading 716"
       ]
      },
      {
       "output_type": "stream",
       "stream": "stdout",
       "text": [
        "\n",
        "Finished loading 727"
       ]
      },
      {
       "output_type": "stream",
       "stream": "stdout",
       "text": [
        "\n",
        "Finished loading 728\n",
        "Finished loading 729"
       ]
      },
      {
       "output_type": "stream",
       "stream": "stdout",
       "text": [
        "\n",
        "Finished loading 730"
       ]
      },
      {
       "output_type": "stream",
       "stream": "stdout",
       "text": [
        "\n",
        "Finished loading 731"
       ]
      },
      {
       "output_type": "stream",
       "stream": "stdout",
       "text": [
        "\n",
        "Finished loading 732"
       ]
      },
      {
       "output_type": "stream",
       "stream": "stdout",
       "text": [
        "\n",
        "Finished loading 733"
       ]
      },
      {
       "output_type": "stream",
       "stream": "stdout",
       "text": [
        "\n",
        "734 not loaded\n",
        "Finished loading 736"
       ]
      },
      {
       "output_type": "stream",
       "stream": "stdout",
       "text": [
        "\n",
        "Finished loading 737"
       ]
      },
      {
       "output_type": "stream",
       "stream": "stdout",
       "text": [
        "\n",
        "Finished loading 743"
       ]
      },
      {
       "output_type": "stream",
       "stream": "stdout",
       "text": [
        "\n",
        "Finished loading 744\n",
        "745 not loaded\n",
        "Finished loading 746"
       ]
      },
      {
       "output_type": "stream",
       "stream": "stdout",
       "text": [
        "\n",
        "Finished loading 747"
       ]
      },
      {
       "output_type": "stream",
       "stream": "stdout",
       "text": [
        "\n",
        "Finished loading 755"
       ]
      },
      {
       "output_type": "stream",
       "stream": "stdout",
       "text": [
        "\n",
        "Finished loading 757"
       ]
      },
      {
       "output_type": "stream",
       "stream": "stdout",
       "text": [
        "\n",
        "Finished loading 763"
       ]
      },
      {
       "output_type": "stream",
       "stream": "stdout",
       "text": [
        "\n",
        "Finished loading 769"
       ]
      },
      {
       "output_type": "stream",
       "stream": "stdout",
       "text": [
        "\n",
        "Finished loading 771"
       ]
      },
      {
       "output_type": "stream",
       "stream": "stdout",
       "text": [
        "\n",
        "Finished loading 782"
       ]
      },
      {
       "output_type": "stream",
       "stream": "stdout",
       "text": [
        "\n",
        "Finished loading 783"
       ]
      },
      {
       "output_type": "stream",
       "stream": "stdout",
       "text": [
        "\n",
        "Finished loading 784"
       ]
      },
      {
       "output_type": "stream",
       "stream": "stdout",
       "text": [
        "\n",
        "Finished loading 785"
       ]
      },
      {
       "output_type": "stream",
       "stream": "stdout",
       "text": [
        "\n",
        "Finished loading 786"
       ]
      },
      {
       "output_type": "stream",
       "stream": "stdout",
       "text": [
        "\n",
        "Finished loading 787"
       ]
      },
      {
       "output_type": "stream",
       "stream": "stdout",
       "text": [
        "\n",
        "Finished loading 788"
       ]
      },
      {
       "output_type": "stream",
       "stream": "stdout",
       "text": [
        "\n",
        "Finished loading 789"
       ]
      },
      {
       "output_type": "stream",
       "stream": "stdout",
       "text": [
        "\n",
        "Finished loading 790"
       ]
      },
      {
       "output_type": "stream",
       "stream": "stdout",
       "text": [
        "\n",
        "Finished loading 791"
       ]
      },
      {
       "output_type": "stream",
       "stream": "stdout",
       "text": [
        "\n",
        "Finished loading 792"
       ]
      },
      {
       "output_type": "stream",
       "stream": "stdout",
       "text": [
        "\n",
        "Finished loading 793"
       ]
      },
      {
       "output_type": "stream",
       "stream": "stdout",
       "text": [
        "\n",
        "Finished loading 794"
       ]
      },
      {
       "output_type": "stream",
       "stream": "stdout",
       "text": [
        "\n",
        "Finished loading 795"
       ]
      },
      {
       "output_type": "stream",
       "stream": "stdout",
       "text": [
        "\n",
        "Finished loading 796"
       ]
      },
      {
       "output_type": "stream",
       "stream": "stdout",
       "text": [
        "\n",
        "Finished loading 797"
       ]
      },
      {
       "output_type": "stream",
       "stream": "stdout",
       "text": [
        "\n",
        "Finished loading 806"
       ]
      },
      {
       "output_type": "stream",
       "stream": "stdout",
       "text": [
        "\n",
        "Finished loading 807"
       ]
      },
      {
       "output_type": "stream",
       "stream": "stdout",
       "text": [
        "\n",
        "Finished loading 808"
       ]
      },
      {
       "output_type": "stream",
       "stream": "stdout",
       "text": [
        "\n",
        "Finished loading 809"
       ]
      },
      {
       "output_type": "stream",
       "stream": "stdout",
       "text": [
        "\n",
        "Finished loading 810"
       ]
      },
      {
       "output_type": "stream",
       "stream": "stdout",
       "text": [
        "\n",
        "811 not loaded\n",
        "Finished loading 832"
       ]
      },
      {
       "output_type": "stream",
       "stream": "stdout",
       "text": [
        "\n",
        "Finished loading 833"
       ]
      },
      {
       "output_type": "stream",
       "stream": "stdout",
       "text": [
        "\n",
        "Finished loading 834"
       ]
      },
      {
       "output_type": "stream",
       "stream": "stdout",
       "text": [
        "\n",
        "Finished loading 835"
       ]
      },
      {
       "output_type": "stream",
       "stream": "stdout",
       "text": [
        "\n",
        "Finished loading 836"
       ]
      },
      {
       "output_type": "stream",
       "stream": "stdout",
       "text": [
        "\n",
        "Finished loading 837\n",
        "Finished loading 858"
       ]
      },
      {
       "output_type": "stream",
       "stream": "stdout",
       "text": [
        "\n",
        "859 not loaded\n",
        "Finished loading 861\n",
        "862 not loaded\n",
        "Finished loading 865"
       ]
      },
      {
       "output_type": "stream",
       "stream": "stdout",
       "text": [
        "\n",
        "Finished loading 867"
       ]
      },
      {
       "output_type": "stream",
       "stream": "stdout",
       "text": [
        "\n",
        "Finished loading 878"
       ]
      },
      {
       "output_type": "stream",
       "stream": "stdout",
       "text": [
        "\n",
        "Finished loading 879"
       ]
      },
      {
       "output_type": "stream",
       "stream": "stdout",
       "text": [
        "\n",
        "Finished loading 880"
       ]
      },
      {
       "output_type": "stream",
       "stream": "stdout",
       "text": [
        "\n",
        "Finished loading 883"
       ]
      },
      {
       "output_type": "stream",
       "stream": "stdout",
       "text": [
        "\n",
        "Finished loading 884"
       ]
      },
      {
       "output_type": "stream",
       "stream": "stdout",
       "text": [
        "\n",
        "Finished loading 888"
       ]
      },
      {
       "output_type": "stream",
       "stream": "stdout",
       "text": [
        "\n",
        "Finished loading 889"
       ]
      },
      {
       "output_type": "stream",
       "stream": "stdout",
       "text": [
        "\n",
        "Finished loading 899"
       ]
      },
      {
       "output_type": "stream",
       "stream": "stdout",
       "text": [
        "\n",
        "Finished loading 900\n",
        "Finished loading 901\n",
        "Finished loading 902"
       ]
      },
      {
       "output_type": "stream",
       "stream": "stdout",
       "text": [
        "\n",
        "Finished loading 903\n",
        "Finished loading 906\n",
        "Finished loading 907"
       ]
      },
      {
       "output_type": "stream",
       "stream": "stdout",
       "text": [
        "\n",
        "Finished loading 908"
       ]
      },
      {
       "output_type": "stream",
       "stream": "stdout",
       "text": [
        "\n",
        "Finished loading 912"
       ]
      },
      {
       "output_type": "stream",
       "stream": "stdout",
       "text": [
        "\n",
        "Finished loading 913"
       ]
      },
      {
       "output_type": "stream",
       "stream": "stdout",
       "text": [
        "\n",
        "Finished loading 917"
       ]
      },
      {
       "output_type": "stream",
       "stream": "stdout",
       "text": [
        "\n",
        "Finished loading 918"
       ]
      },
      {
       "output_type": "stream",
       "stream": "stdout",
       "text": [
        "\n",
        "Finished loading 919"
       ]
      },
      {
       "output_type": "stream",
       "stream": "stdout",
       "text": [
        "\n",
        "Finished loading 909\n",
        "Finished loading 936"
       ]
      },
      {
       "output_type": "stream",
       "stream": "stdout",
       "text": [
        "\n",
        "Finished loading 937"
       ]
      },
      {
       "output_type": "stream",
       "stream": "stdout",
       "text": [
        "\n",
        "938 not loaded\n",
        "Finished loading 939"
       ]
      },
      {
       "output_type": "stream",
       "stream": "stdout",
       "text": [
        "\n",
        "Finished loading 940"
       ]
      },
      {
       "output_type": "stream",
       "stream": "stdout",
       "text": [
        "\n",
        "Finished loading 941\n",
        "Finished loading 942"
       ]
      },
      {
       "output_type": "stream",
       "stream": "stdout",
       "text": [
        "\n",
        "Finished loading 943"
       ]
      },
      {
       "output_type": "stream",
       "stream": "stdout",
       "text": [
        "\n",
        "Finished loading 944"
       ]
      },
      {
       "output_type": "stream",
       "stream": "stdout",
       "text": [
        "\n",
        "Finished loading 945"
       ]
      },
      {
       "output_type": "stream",
       "stream": "stdout",
       "text": [
        "\n",
        "Finished loading 947"
       ]
      },
      {
       "output_type": "stream",
       "stream": "stdout",
       "text": [
        "\n",
        "Finished loading 948"
       ]
      },
      {
       "output_type": "stream",
       "stream": "stdout",
       "text": [
        "\n",
        "Finished loading 950"
       ]
      },
      {
       "output_type": "stream",
       "stream": "stdout",
       "text": [
        "\n",
        "Finished loading 957"
       ]
      },
      {
       "output_type": "stream",
       "stream": "stdout",
       "text": [
        "\n",
        "Finished loading 958"
       ]
      },
      {
       "output_type": "stream",
       "stream": "stdout",
       "text": [
        "\n",
        "Finished loading 959"
       ]
      },
      {
       "output_type": "stream",
       "stream": "stdout",
       "text": [
        "\n",
        "Finished loading 964"
       ]
      },
      {
       "output_type": "stream",
       "stream": "stdout",
       "text": [
        "\n",
        "Finished loading 965"
       ]
      },
      {
       "output_type": "stream",
       "stream": "stdout",
       "text": [
        "\n",
        "Finished loading 966"
       ]
      },
      {
       "output_type": "stream",
       "stream": "stdout",
       "text": [
        "\n",
        "Finished loading 967"
       ]
      },
      {
       "output_type": "stream",
       "stream": "stdout",
       "text": [
        "\n",
        "Finished loading 974"
       ]
      },
      {
       "output_type": "stream",
       "stream": "stdout",
       "text": [
        "\n",
        "Finished loading 975"
       ]
      },
      {
       "output_type": "stream",
       "stream": "stdout",
       "text": [
        "\n",
        "Finished loading 976"
       ]
      },
      {
       "output_type": "stream",
       "stream": "stdout",
       "text": [
        "\n",
        "Finished loading 989"
       ]
      },
      {
       "output_type": "stream",
       "stream": "stdout",
       "text": [
        "\n",
        "Finished loading 990"
       ]
      },
      {
       "output_type": "stream",
       "stream": "stdout",
       "text": [
        "\n",
        "Finished loading 991"
       ]
      },
      {
       "output_type": "stream",
       "stream": "stdout",
       "text": [
        "\n",
        "Finished loading 992"
       ]
      },
      {
       "output_type": "stream",
       "stream": "stdout",
       "text": [
        "\n",
        "Finished loading 997"
       ]
      },
      {
       "output_type": "stream",
       "stream": "stdout",
       "text": [
        "\n",
        "Finished loading 998"
       ]
      },
      {
       "output_type": "stream",
       "stream": "stdout",
       "text": [
        "\n",
        "Finished loading 999"
       ]
      },
      {
       "output_type": "stream",
       "stream": "stdout",
       "text": [
        "\n",
        "Finished loading 1008"
       ]
      },
      {
       "output_type": "stream",
       "stream": "stdout",
       "text": [
        "\n",
        "Finished loading 1009"
       ]
      },
      {
       "output_type": "stream",
       "stream": "stdout",
       "text": [
        "\n",
        "Finished loading 1017"
       ]
      },
      {
       "output_type": "stream",
       "stream": "stdout",
       "text": [
        "\n",
        "Finished loading 1018"
       ]
      },
      {
       "output_type": "stream",
       "stream": "stdout",
       "text": [
        "\n",
        "Finished loading 1019\n",
        "Finished loading 1024"
       ]
      },
      {
       "output_type": "stream",
       "stream": "stdout",
       "text": [
        "\n",
        "Finished loading 1025\n",
        "Finished loading 1026"
       ]
      },
      {
       "output_type": "stream",
       "stream": "stdout",
       "text": [
        "\n",
        "Finished loading 1039"
       ]
      },
      {
       "output_type": "stream",
       "stream": "stdout",
       "text": [
        "\n",
        "Finished loading 1057"
       ]
      },
      {
       "output_type": "stream",
       "stream": "stdout",
       "text": [
        "\n",
        "Finished loading 1058\n",
        "Finished loading 1059"
       ]
      },
      {
       "output_type": "stream",
       "stream": "stdout",
       "text": [
        "\n",
        "Finished loading 1060\n",
        "Finished loading 1061\n",
        "Finished loading 1062"
       ]
      },
      {
       "output_type": "stream",
       "stream": "stdout",
       "text": [
        "\n",
        "Finished loading 1063"
       ]
      },
      {
       "output_type": "stream",
       "stream": "stdout",
       "text": [
        "\n",
        "Finished loading 1064"
       ]
      },
      {
       "output_type": "stream",
       "stream": "stdout",
       "text": [
        "\n",
        "Finished loading 1065"
       ]
      },
      {
       "output_type": "stream",
       "stream": "stdout",
       "text": [
        "\n",
        "Finished loading 1066"
       ]
      },
      {
       "output_type": "stream",
       "stream": "stdout",
       "text": [
        "\n",
        "Finished loading 1072"
       ]
      },
      {
       "output_type": "stream",
       "stream": "stdout",
       "text": [
        "\n",
        "Finished loading 1073\n",
        "Finished loading 1074"
       ]
      },
      {
       "output_type": "stream",
       "stream": "stdout",
       "text": [
        "\n",
        "Finished loading 1075"
       ]
      },
      {
       "output_type": "stream",
       "stream": "stdout",
       "text": [
        "\n",
        "Finished loading 1076"
       ]
      },
      {
       "output_type": "stream",
       "stream": "stdout",
       "text": [
        "\n",
        "Finished loading 1077"
       ]
      },
      {
       "output_type": "stream",
       "stream": "stdout",
       "text": [
        "\n",
        "Finished loading 1078"
       ]
      },
      {
       "output_type": "stream",
       "stream": "stdout",
       "text": [
        "\n",
        "Finished loading 1083"
       ]
      },
      {
       "output_type": "stream",
       "stream": "stdout",
       "text": [
        "\n",
        "Finished loading 1084"
       ]
      },
      {
       "output_type": "stream",
       "stream": "stdout",
       "text": [
        "\n",
        "Finished loading 1085"
       ]
      },
      {
       "output_type": "stream",
       "stream": "stdout",
       "text": [
        "\n",
        "Finished loading 1086"
       ]
      },
      {
       "output_type": "stream",
       "stream": "stdout",
       "text": [
        "\n",
        "Finished loading 1094\n",
        "Finished loading 1106"
       ]
      },
      {
       "output_type": "stream",
       "stream": "stdout",
       "text": [
        "\n",
        "Finished loading 1108"
       ]
      },
      {
       "output_type": "stream",
       "stream": "stdout",
       "text": [
        "\n",
        "Finished loading 1109"
       ]
      },
      {
       "output_type": "stream",
       "stream": "stdout",
       "text": [
        "\n",
        "Finished loading 1117"
       ]
      },
      {
       "output_type": "stream",
       "stream": "stdout",
       "text": [
        "\n",
        "Finished loading 1118\n",
        "Finished loading 1119"
       ]
      },
      {
       "output_type": "stream",
       "stream": "stdout",
       "text": [
        "\n",
        "Finished loading 1120"
       ]
      },
      {
       "output_type": "stream",
       "stream": "stdout",
       "text": [
        "\n",
        "Finished loading 1121"
       ]
      },
      {
       "output_type": "stream",
       "stream": "stdout",
       "text": [
        "\n",
        "Finished loading 1122"
       ]
      },
      {
       "output_type": "stream",
       "stream": "stdout",
       "text": [
        "\n",
        "Finished loading 1123"
       ]
      },
      {
       "output_type": "stream",
       "stream": "stdout",
       "text": [
        "\n",
        "Finished loading 1147"
       ]
      },
      {
       "output_type": "stream",
       "stream": "stdout",
       "text": [
        "\n",
        "Finished loading 1148"
       ]
      },
      {
       "output_type": "stream",
       "stream": "stdout",
       "text": [
        "\n",
        "Finished loading 1149"
       ]
      },
      {
       "output_type": "stream",
       "stream": "stdout",
       "text": [
        "\n",
        "Finished loading 1156"
       ]
      },
      {
       "output_type": "stream",
       "stream": "stdout",
       "text": [
        "\n",
        "Finished loading 1158"
       ]
      },
      {
       "output_type": "stream",
       "stream": "stdout",
       "text": [
        "\n",
        "Finished loading 1160"
       ]
      },
      {
       "output_type": "stream",
       "stream": "stdout",
       "text": [
        "\n",
        "Finished loading 1163"
       ]
      },
      {
       "output_type": "stream",
       "stream": "stdout",
       "text": [
        "\n",
        "Finished loading 1168"
       ]
      },
      {
       "output_type": "stream",
       "stream": "stdout",
       "text": [
        "\n",
        "Finished loading 1169\n",
        "Finished loading 1170"
       ]
      },
      {
       "output_type": "stream",
       "stream": "stdout",
       "text": [
        "\n",
        "Finished loading 1171\n",
        "1172 not loaded\n",
        "Finished loading 1173"
       ]
      },
      {
       "output_type": "stream",
       "stream": "stdout",
       "text": [
        "\n",
        "Finished loading 1174"
       ]
      },
      {
       "output_type": "stream",
       "stream": "stdout",
       "text": [
        "\n",
        "Finished loading 1177"
       ]
      },
      {
       "output_type": "stream",
       "stream": "stdout",
       "text": [
        "\n",
        "Finished loading 1178\n",
        "Finished loading 1193\n",
        "Finished loading 1194\n"
       ]
      }
     ],
     "prompt_number": 24
    },
    {
     "cell_type": "markdown",
     "metadata": {},
     "source": [
      "Let's aggregate to 2 month to show up more clearly on the map and the resample and ffill to get daily data to plot"
     ]
    },
    {
     "cell_type": "code",
     "collapsed": false,
     "input": [
      "spearmans_bimonthly = spearmans.resample('3M')\n",
      "spearmans_daily = spearmans_bimonthly.resample('D').fillna(method='ffill')"
     ],
     "language": "python",
     "metadata": {},
     "outputs": [],
     "prompt_number": 25
    },
    {
     "cell_type": "markdown",
     "metadata": {},
     "source": [
      "Let's plot this bad boy"
     ]
    },
    {
     "cell_type": "code",
     "collapsed": false,
     "input": [
      "SPINE_COLOR = 'gray'"
     ],
     "language": "python",
     "metadata": {},
     "outputs": [],
     "prompt_number": 26
    },
    {
     "cell_type": "code",
     "collapsed": false,
     "input": [
      "def latexify(fig_width=None, fig_height=None, columns=1):\n",
      "    \"\"\"Set up matplotlib's RC params for LaTeX plotting.\n",
      "    Call this before plotting a figure.\n",
      "\n",
      "    Parameters\n",
      "    ----------\n",
      "    fig_width : float, optional, inches\n",
      "    fig_height : float,  optional, inches\n",
      "    columns : {1, 2}\n",
      "    \"\"\"\n",
      "\n",
      "    # code adapted from http://www.scipy.org/Cookbook/Matplotlib/LaTeX_Examples\n",
      "\n",
      "    # Width and max height in inches for IEEE journals taken from\n",
      "    # computer.org/cms/Computer.org/Journal%20templates/transactions_art_guide.pdf\n",
      "\n",
      "    assert(columns in [1,2])\n",
      "\n",
      "    if fig_width is None:\n",
      "        fig_width = 3.39 if columns==1 else 6.9 # width in inches\n",
      "\n",
      "    if fig_height is None:\n",
      "        golden_mean = (sqrt(5)-1.0)/2.0    # Aesthetic ratio\n",
      "        fig_height = fig_width*golden_mean # height in inches\n",
      "\n",
      "    MAX_HEIGHT_INCHES = 8.0\n",
      "    if fig_height > MAX_HEIGHT_INCHES:\n",
      "        print(\"WARNING: fig_height too large:\" + fig_height + \n",
      "              \"so will reduce to\" + MAX_HEIGHT_INCHES + \"inches.\")\n",
      "        fig_height = MAX_HEIGHT_INCHES\n",
      "\n",
      "    params = {'backend': 'ps',\n",
      "              'text.latex.preamble': ['\\usepackage{gensymb}'],\n",
      "              'axes.labelsize': 10, # fontsize for x and y labels (was 10)\n",
      "              'axes.titlesize': 10,\n",
      "              'text.fontsize': 10, # was 10\n",
      "              'legend.fontsize': 8, # was 10\n",
      "              'xtick.labelsize': 8,\n",
      "              'ytick.labelsize': 10,\n",
      "              'text.usetex': True,\n",
      "              'figure.figsize': [fig_width,fig_height],\n",
      "              'font.family': 'serif'\n",
      "    }\n",
      "\n",
      "    matplotlib.rcParams.update(params)\n",
      "\n",
      "\n",
      "def format_axes(ax):\n",
      "\n",
      "    for spine in ['top', 'right']:\n",
      "        ax.spines[spine].set_visible(False)\n",
      "\n",
      "    for spine in ['left', 'bottom']:\n",
      "        ax.spines[spine].set_color(SPINE_COLOR)\n",
      "        ax.spines[spine].set_linewidth(0.5)\n",
      "\n",
      "    ax.xaxis.set_ticks_position('bottom')\n",
      "    ax.yaxis.set_ticks_position('left')\n",
      "\n",
      "    for axis in [ax.xaxis, ax.yaxis]:\n",
      "        axis.set_tick_params(direction='out', color=SPINE_COLOR)\n",
      "\n",
      "    return ax"
     ],
     "language": "python",
     "metadata": {},
     "outputs": [],
     "prompt_number": 27
    },
    {
     "cell_type": "code",
     "collapsed": false,
     "input": [
      "latexify(fig_height = 6)\n",
      "\n",
      "numberofplots = 1\n",
      "fig = plt.figure()\n",
      "\n",
      "# Get the data\n",
      "x = mdates.drange(spearmans_daily.index[0], spearmans_daily.index[-1] + datetime.timedelta(days=1), dt.timedelta(days=1))\n",
      "y = np.linspace(1, len(spearmans_daily.columns), len(spearmans_daily.columns))\n",
      "\n",
      "# Plot\n",
      "ax = fig.add_subplot(numberofplots, 1, 1)\n",
      "\n",
      "data = np.ma.masked_invalid(np.array(spearmans_daily.T))\n",
      "\n",
      "cmap = cm.get_cmap('RdBu')\n",
      "\n",
      "qmesh = ax.pcolormesh(x, y, data) #, cmap=cmap\n",
      "\n",
      "cbaxes = fig.add_axes([0.2, 0.1, 0.7, 0.02]) \n",
      "cbar = fig.colorbar(qmesh, ax=ax, orientation='horizontal', cax = cbaxes)\n",
      "cbar.ax.tick_params(length = 0)\n",
      "# tick_locator = ticker.MaxNLocator(nbins=3)\n",
      "# cbar.locator = tick_locator\n",
      "# cbar.update_ticks()\n",
      "cbar.set_label(\"Spearman rank coefficient\")\n",
      "\n",
      "ax.axis('tight')\n",
      "\n",
      "# try:\n",
      "#     plt.title(MasterPointList[(MasterPointList.Name == mappingname)].Name.iloc[0] + \"/\" + \n",
      "#           MasterPointList[(MasterPointList.Name == mappingname)].English_Description2.iloc[0] + \n",
      "#           \"/\"+ MasterPointList[(MasterPointList.Name == mappingname)].Description2.iloc[0], fontsize=26)\n",
      "\n",
      "# except IndexError:\n",
      "# continue\n",
      "\n",
      "# Set up as dates\n",
      "ax.xaxis_date()\n",
      "#ax.yaxis.set_ticks()\n",
      "fig.autofmt_xdate()\n",
      "fig.subplots_adjust(hspace=.5)\n",
      "\n",
      "ax.set_xlabel(\"Timeline\")\n",
      "ax.set_ylabel(\"Point Number\")\n",
      "ax.set_title(\"kWh Meter Weather Sensitivity Screening\")\n",
      "plt.tight_layout()\n",
      "plt.subplots_adjust(bottom=0.22)\n",
      "\n",
      "format_axes(ax)\n",
      "\n",
      "plt.savefig(\"weathersensitivity_map.png\", dpi=500)"
     ],
     "language": "python",
     "metadata": {},
     "outputs": [
      {
       "output_type": "stream",
       "stream": "stderr",
       "text": [
        "/Users/millerc/Library/Enthought/Canopy_64bit/User/lib/python2.7/site-packages/matplotlib/__init__.py:855: UserWarning: text.fontsize is deprecated and replaced with font.size; please use the latter.\n",
        "  warnings.warn(self.msg_depr % (key, alt_key))\n",
        "/Users/millerc/Library/Enthought/Canopy_64bit/User/lib/python2.7/site-packages/matplotlib/figure.py:1644: UserWarning: This figure includes Axes that are not compatible with tight_layout, so its results might be incorrect.\n",
        "  warnings.warn(\"This figure includes Axes that are not \"\n"
       ]
      },
      {
       "metadata": {},
       "output_type": "display_data",
       "png": "[encoded data removed]",
       "text": [
        "<matplotlib.figure.Figure at 0x10f96b750>"
       ]
      }
     ],
     "prompt_number": 28
    },
    {
     "cell_type": "markdown",
     "metadata": {},
     "source": [
      "###Let's save a snapshot of this dataset so we can replicate graphs without redoing all of the calculations"
     ]
    },
    {
     "cell_type": "code",
     "collapsed": false,
     "input": [
      "spearmans_daily.to_csv(\"Spearmans_daily.csv\")"
     ],
     "language": "python",
     "metadata": {},
     "outputs": [],
     "prompt_number": 29
    },
    {
     "cell_type": "markdown",
     "metadata": {},
     "source": [
      "###Let's sort the data so that color map is more comprensible"
     ]
    },
    {
     "cell_type": "code",
     "collapsed": false,
     "input": [
      "spearmans_daily_sorted = spearmans_daily.T.ix[spearmans_daily.T.sum(axis=1).order().index]"
     ],
     "language": "python",
     "metadata": {},
     "outputs": [],
     "prompt_number": 30
    },
    {
     "cell_type": "code",
     "collapsed": false,
     "input": [
      "spearmans_daily_sorted"
     ],
     "language": "python",
     "metadata": {},
     "outputs": [
      {
       "html": [
        "<div style=\"max-height:1000px;max-width:1500px;overflow:auto;\">\n",
        "<table border=\"1\" class=\"dataframe\">\n",
        "  <thead>\n",
        "    <tr style=\"text-align: right;\">\n",
        "      <th></th>\n",
        "      <th>2006-01-31 00:00:00</th>\n",
        "      <th>2006-02-01 00:00:00</th>\n",
        "      <th>2006-02-02 00:00:00</th>\n",
        "      <th>2006-02-03 00:00:00</th>\n",
        "      <th>2006-02-04 00:00:00</th>\n",
        "      <th>2006-02-05 00:00:00</th>\n",
        "      <th>2006-02-06 00:00:00</th>\n",
        "      <th>2006-02-07 00:00:00</th>\n",
        "      <th>2006-02-08 00:00:00</th>\n",
        "      <th>2006-02-09 00:00:00</th>\n",
        "      <th>...</th>\n",
        "      <th>2014-01-22 00:00:00</th>\n",
        "      <th>2014-01-23 00:00:00</th>\n",
        "      <th>2014-01-24 00:00:00</th>\n",
        "      <th>2014-01-25 00:00:00</th>\n",
        "      <th>2014-01-26 00:00:00</th>\n",
        "      <th>2014-01-27 00:00:00</th>\n",
        "      <th>2014-01-28 00:00:00</th>\n",
        "      <th>2014-01-29 00:00:00</th>\n",
        "      <th>2014-01-30 00:00:00</th>\n",
        "      <th>2014-01-31 00:00:00</th>\n",
        "    </tr>\n",
        "  </thead>\n",
        "  <tbody>\n",
        "    <tr>\n",
        "      <th>405</th>\n",
        "      <td>-0.817976</td>\n",
        "      <td>-0.817976</td>\n",
        "      <td>-0.817976</td>\n",
        "      <td>-0.817976</td>\n",
        "      <td>-0.817976</td>\n",
        "      <td>-0.817976</td>\n",
        "      <td>-0.817976</td>\n",
        "      <td>-0.817976</td>\n",
        "      <td>-0.817976</td>\n",
        "      <td>-0.817976</td>\n",
        "      <td>...</td>\n",
        "      <td>-0.910688</td>\n",
        "      <td>-0.910688</td>\n",
        "      <td>-0.910688</td>\n",
        "      <td>-0.910688</td>\n",
        "      <td>-0.910688</td>\n",
        "      <td>-0.910688</td>\n",
        "      <td>-0.910688</td>\n",
        "      <td>-0.910688</td>\n",
        "      <td>-0.910688</td>\n",
        "      <td>-0.836340</td>\n",
        "    </tr>\n",
        "    <tr>\n",
        "      <th>406</th>\n",
        "      <td>-0.738066</td>\n",
        "      <td>-0.738066</td>\n",
        "      <td>-0.738066</td>\n",
        "      <td>-0.738066</td>\n",
        "      <td>-0.738066</td>\n",
        "      <td>-0.738066</td>\n",
        "      <td>-0.738066</td>\n",
        "      <td>-0.738066</td>\n",
        "      <td>-0.738066</td>\n",
        "      <td>-0.738066</td>\n",
        "      <td>...</td>\n",
        "      <td>-0.873622</td>\n",
        "      <td>-0.873622</td>\n",
        "      <td>-0.873622</td>\n",
        "      <td>-0.873622</td>\n",
        "      <td>-0.873622</td>\n",
        "      <td>-0.873622</td>\n",
        "      <td>-0.873622</td>\n",
        "      <td>-0.873622</td>\n",
        "      <td>-0.873622</td>\n",
        "      <td>-0.795988</td>\n",
        "    </tr>\n",
        "    <tr>\n",
        "      <th>997</th>\n",
        "      <td>-0.780387</td>\n",
        "      <td>-0.780387</td>\n",
        "      <td>-0.780387</td>\n",
        "      <td>-0.780387</td>\n",
        "      <td>-0.780387</td>\n",
        "      <td>-0.780387</td>\n",
        "      <td>-0.780387</td>\n",
        "      <td>-0.780387</td>\n",
        "      <td>-0.780387</td>\n",
        "      <td>-0.780387</td>\n",
        "      <td>...</td>\n",
        "      <td>-0.796847</td>\n",
        "      <td>-0.796847</td>\n",
        "      <td>-0.796847</td>\n",
        "      <td>-0.796847</td>\n",
        "      <td>-0.796847</td>\n",
        "      <td>-0.796847</td>\n",
        "      <td>-0.796847</td>\n",
        "      <td>-0.796847</td>\n",
        "      <td>-0.796847</td>\n",
        "      <td>-0.833563</td>\n",
        "    </tr>\n",
        "    <tr>\n",
        "      <th>330</th>\n",
        "      <td>-0.754735</td>\n",
        "      <td>-0.754735</td>\n",
        "      <td>-0.754735</td>\n",
        "      <td>-0.754735</td>\n",
        "      <td>-0.754735</td>\n",
        "      <td>-0.754735</td>\n",
        "      <td>-0.754735</td>\n",
        "      <td>-0.754735</td>\n",
        "      <td>-0.754735</td>\n",
        "      <td>-0.754735</td>\n",
        "      <td>...</td>\n",
        "      <td>-0.901162</td>\n",
        "      <td>-0.901162</td>\n",
        "      <td>-0.901162</td>\n",
        "      <td>-0.901162</td>\n",
        "      <td>-0.901162</td>\n",
        "      <td>-0.901162</td>\n",
        "      <td>-0.901162</td>\n",
        "      <td>-0.901162</td>\n",
        "      <td>-0.901162</td>\n",
        "      <td>-0.845156</td>\n",
        "    </tr>\n",
        "    <tr>\n",
        "      <th>1121</th>\n",
        "      <td>-0.571974</td>\n",
        "      <td>-0.571974</td>\n",
        "      <td>-0.571974</td>\n",
        "      <td>-0.571974</td>\n",
        "      <td>-0.571974</td>\n",
        "      <td>-0.571974</td>\n",
        "      <td>-0.571974</td>\n",
        "      <td>-0.571974</td>\n",
        "      <td>-0.571974</td>\n",
        "      <td>-0.571974</td>\n",
        "      <td>...</td>\n",
        "      <td>-0.853968</td>\n",
        "      <td>-0.853968</td>\n",
        "      <td>-0.853968</td>\n",
        "      <td>-0.853968</td>\n",
        "      <td>-0.853968</td>\n",
        "      <td>-0.853968</td>\n",
        "      <td>-0.853968</td>\n",
        "      <td>-0.853968</td>\n",
        "      <td>-0.853968</td>\n",
        "      <td>-0.906273</td>\n",
        "    </tr>\n",
        "    <tr>\n",
        "      <th>999</th>\n",
        "      <td>-0.696256</td>\n",
        "      <td>-0.696256</td>\n",
        "      <td>-0.696256</td>\n",
        "      <td>-0.696256</td>\n",
        "      <td>-0.696256</td>\n",
        "      <td>-0.696256</td>\n",
        "      <td>-0.696256</td>\n",
        "      <td>-0.696256</td>\n",
        "      <td>-0.696256</td>\n",
        "      <td>-0.696256</td>\n",
        "      <td>...</td>\n",
        "      <td>-0.776772</td>\n",
        "      <td>-0.776772</td>\n",
        "      <td>-0.776772</td>\n",
        "      <td>-0.776772</td>\n",
        "      <td>-0.776772</td>\n",
        "      <td>-0.776772</td>\n",
        "      <td>-0.776772</td>\n",
        "      <td>-0.776772</td>\n",
        "      <td>-0.776772</td>\n",
        "      <td>-0.623830</td>\n",
        "    </tr>\n",
        "    <tr>\n",
        "      <th>433</th>\n",
        "      <td>-0.663784</td>\n",
        "      <td>-0.663784</td>\n",
        "      <td>-0.663784</td>\n",
        "      <td>-0.663784</td>\n",
        "      <td>-0.663784</td>\n",
        "      <td>-0.663784</td>\n",
        "      <td>-0.663784</td>\n",
        "      <td>-0.663784</td>\n",
        "      <td>-0.663784</td>\n",
        "      <td>-0.663784</td>\n",
        "      <td>...</td>\n",
        "      <td>-0.736488</td>\n",
        "      <td>-0.736488</td>\n",
        "      <td>-0.736488</td>\n",
        "      <td>-0.736488</td>\n",
        "      <td>-0.736488</td>\n",
        "      <td>-0.736488</td>\n",
        "      <td>-0.736488</td>\n",
        "      <td>-0.736488</td>\n",
        "      <td>-0.736488</td>\n",
        "      <td>-0.825473</td>\n",
        "    </tr>\n",
        "    <tr>\n",
        "      <th>205</th>\n",
        "      <td>-0.476832</td>\n",
        "      <td>-0.476832</td>\n",
        "      <td>-0.476832</td>\n",
        "      <td>-0.476832</td>\n",
        "      <td>-0.476832</td>\n",
        "      <td>-0.476832</td>\n",
        "      <td>-0.476832</td>\n",
        "      <td>-0.476832</td>\n",
        "      <td>-0.476832</td>\n",
        "      <td>-0.476832</td>\n",
        "      <td>...</td>\n",
        "      <td>-0.776768</td>\n",
        "      <td>-0.776768</td>\n",
        "      <td>-0.776768</td>\n",
        "      <td>-0.776768</td>\n",
        "      <td>-0.776768</td>\n",
        "      <td>-0.776768</td>\n",
        "      <td>-0.776768</td>\n",
        "      <td>-0.776768</td>\n",
        "      <td>-0.776768</td>\n",
        "      <td>-0.795192</td>\n",
        "    </tr>\n",
        "    <tr>\n",
        "      <th>403</th>\n",
        "      <td>-0.852396</td>\n",
        "      <td>-0.852396</td>\n",
        "      <td>-0.852396</td>\n",
        "      <td>-0.852396</td>\n",
        "      <td>-0.852396</td>\n",
        "      <td>-0.852396</td>\n",
        "      <td>-0.852396</td>\n",
        "      <td>-0.852396</td>\n",
        "      <td>-0.852396</td>\n",
        "      <td>-0.852396</td>\n",
        "      <td>...</td>\n",
        "      <td>-0.585887</td>\n",
        "      <td>-0.585887</td>\n",
        "      <td>-0.585887</td>\n",
        "      <td>-0.585887</td>\n",
        "      <td>-0.585887</td>\n",
        "      <td>-0.585887</td>\n",
        "      <td>-0.585887</td>\n",
        "      <td>-0.585887</td>\n",
        "      <td>-0.585887</td>\n",
        "      <td>-0.719419</td>\n",
        "    </tr>\n",
        "    <tr>\n",
        "      <th>408</th>\n",
        "      <td>-0.734444</td>\n",
        "      <td>-0.734444</td>\n",
        "      <td>-0.734444</td>\n",
        "      <td>-0.734444</td>\n",
        "      <td>-0.734444</td>\n",
        "      <td>-0.734444</td>\n",
        "      <td>-0.734444</td>\n",
        "      <td>-0.734444</td>\n",
        "      <td>-0.734444</td>\n",
        "      <td>-0.734444</td>\n",
        "      <td>...</td>\n",
        "      <td>-0.642482</td>\n",
        "      <td>-0.642482</td>\n",
        "      <td>-0.642482</td>\n",
        "      <td>-0.642482</td>\n",
        "      <td>-0.642482</td>\n",
        "      <td>-0.642482</td>\n",
        "      <td>-0.642482</td>\n",
        "      <td>-0.642482</td>\n",
        "      <td>-0.642482</td>\n",
        "      <td>-0.945841</td>\n",
        "    </tr>\n",
        "    <tr>\n",
        "      <th>964</th>\n",
        "      <td>-0.844611</td>\n",
        "      <td>-0.844611</td>\n",
        "      <td>-0.844611</td>\n",
        "      <td>-0.844611</td>\n",
        "      <td>-0.844611</td>\n",
        "      <td>-0.844611</td>\n",
        "      <td>-0.844611</td>\n",
        "      <td>-0.844611</td>\n",
        "      <td>-0.844611</td>\n",
        "      <td>-0.844611</td>\n",
        "      <td>...</td>\n",
        "      <td>-0.633819</td>\n",
        "      <td>-0.633819</td>\n",
        "      <td>-0.633819</td>\n",
        "      <td>-0.633819</td>\n",
        "      <td>-0.633819</td>\n",
        "      <td>-0.633819</td>\n",
        "      <td>-0.633819</td>\n",
        "      <td>-0.633819</td>\n",
        "      <td>-0.633819</td>\n",
        "      <td>-0.726666</td>\n",
        "    </tr>\n",
        "    <tr>\n",
        "      <th>407</th>\n",
        "      <td>-0.809149</td>\n",
        "      <td>-0.809149</td>\n",
        "      <td>-0.809149</td>\n",
        "      <td>-0.809149</td>\n",
        "      <td>-0.809149</td>\n",
        "      <td>-0.809149</td>\n",
        "      <td>-0.809149</td>\n",
        "      <td>-0.809149</td>\n",
        "      <td>-0.809149</td>\n",
        "      <td>-0.809149</td>\n",
        "      <td>...</td>\n",
        "      <td>-0.539305</td>\n",
        "      <td>-0.539305</td>\n",
        "      <td>-0.539305</td>\n",
        "      <td>-0.539305</td>\n",
        "      <td>-0.539305</td>\n",
        "      <td>-0.539305</td>\n",
        "      <td>-0.539305</td>\n",
        "      <td>-0.539305</td>\n",
        "      <td>-0.539305</td>\n",
        "      <td>-0.679374</td>\n",
        "    </tr>\n",
        "    <tr>\n",
        "      <th>966</th>\n",
        "      <td>-0.843068</td>\n",
        "      <td>-0.843068</td>\n",
        "      <td>-0.843068</td>\n",
        "      <td>-0.843068</td>\n",
        "      <td>-0.843068</td>\n",
        "      <td>-0.843068</td>\n",
        "      <td>-0.843068</td>\n",
        "      <td>-0.843068</td>\n",
        "      <td>-0.843068</td>\n",
        "      <td>-0.843068</td>\n",
        "      <td>...</td>\n",
        "      <td>-0.617946</td>\n",
        "      <td>-0.617946</td>\n",
        "      <td>-0.617946</td>\n",
        "      <td>-0.617946</td>\n",
        "      <td>-0.617946</td>\n",
        "      <td>-0.617946</td>\n",
        "      <td>-0.617946</td>\n",
        "      <td>-0.617946</td>\n",
        "      <td>-0.617946</td>\n",
        "      <td>-0.848781</td>\n",
        "    </tr>\n",
        "    <tr>\n",
        "      <th>331</th>\n",
        "      <td>-0.259162</td>\n",
        "      <td>-0.259162</td>\n",
        "      <td>-0.259162</td>\n",
        "      <td>-0.259162</td>\n",
        "      <td>-0.259162</td>\n",
        "      <td>-0.259162</td>\n",
        "      <td>-0.259162</td>\n",
        "      <td>-0.259162</td>\n",
        "      <td>-0.259162</td>\n",
        "      <td>-0.259162</td>\n",
        "      <td>...</td>\n",
        "      <td>-0.742964</td>\n",
        "      <td>-0.742964</td>\n",
        "      <td>-0.742964</td>\n",
        "      <td>-0.742964</td>\n",
        "      <td>-0.742964</td>\n",
        "      <td>-0.742964</td>\n",
        "      <td>-0.742964</td>\n",
        "      <td>-0.742964</td>\n",
        "      <td>-0.742964</td>\n",
        "      <td>-0.593519</td>\n",
        "    </tr>\n",
        "    <tr>\n",
        "      <th>325</th>\n",
        "      <td>-0.581718</td>\n",
        "      <td>-0.581718</td>\n",
        "      <td>-0.581718</td>\n",
        "      <td>-0.581718</td>\n",
        "      <td>-0.581718</td>\n",
        "      <td>-0.581718</td>\n",
        "      <td>-0.581718</td>\n",
        "      <td>-0.581718</td>\n",
        "      <td>-0.581718</td>\n",
        "      <td>-0.581718</td>\n",
        "      <td>...</td>\n",
        "      <td>-0.743162</td>\n",
        "      <td>-0.743162</td>\n",
        "      <td>-0.743162</td>\n",
        "      <td>-0.743162</td>\n",
        "      <td>-0.743162</td>\n",
        "      <td>-0.743162</td>\n",
        "      <td>-0.743162</td>\n",
        "      <td>-0.743162</td>\n",
        "      <td>-0.743162</td>\n",
        "      <td>-0.939304</td>\n",
        "    </tr>\n",
        "    <tr>\n",
        "      <th>251</th>\n",
        "      <td>-0.750614</td>\n",
        "      <td>-0.750614</td>\n",
        "      <td>-0.750614</td>\n",
        "      <td>-0.750614</td>\n",
        "      <td>-0.750614</td>\n",
        "      <td>-0.750614</td>\n",
        "      <td>-0.750614</td>\n",
        "      <td>-0.750614</td>\n",
        "      <td>-0.750614</td>\n",
        "      <td>-0.750614</td>\n",
        "      <td>...</td>\n",
        "      <td>-0.577227</td>\n",
        "      <td>-0.577227</td>\n",
        "      <td>-0.577227</td>\n",
        "      <td>-0.577227</td>\n",
        "      <td>-0.577227</td>\n",
        "      <td>-0.577227</td>\n",
        "      <td>-0.577227</td>\n",
        "      <td>-0.577227</td>\n",
        "      <td>-0.577227</td>\n",
        "      <td>-0.847289</td>\n",
        "    </tr>\n",
        "    <tr>\n",
        "      <th>154</th>\n",
        "      <td>-0.560780</td>\n",
        "      <td>-0.560780</td>\n",
        "      <td>-0.560780</td>\n",
        "      <td>-0.560780</td>\n",
        "      <td>-0.560780</td>\n",
        "      <td>-0.560780</td>\n",
        "      <td>-0.560780</td>\n",
        "      <td>-0.560780</td>\n",
        "      <td>-0.560780</td>\n",
        "      <td>-0.560780</td>\n",
        "      <td>...</td>\n",
        "      <td>-0.635022</td>\n",
        "      <td>-0.635022</td>\n",
        "      <td>-0.635022</td>\n",
        "      <td>-0.635022</td>\n",
        "      <td>-0.635022</td>\n",
        "      <td>-0.635022</td>\n",
        "      <td>-0.635022</td>\n",
        "      <td>-0.635022</td>\n",
        "      <td>-0.635022</td>\n",
        "      <td>-0.783725</td>\n",
        "    </tr>\n",
        "    <tr>\n",
        "      <th>326</th>\n",
        "      <td>-0.792531</td>\n",
        "      <td>-0.792531</td>\n",
        "      <td>-0.792531</td>\n",
        "      <td>-0.792531</td>\n",
        "      <td>-0.792531</td>\n",
        "      <td>-0.792531</td>\n",
        "      <td>-0.792531</td>\n",
        "      <td>-0.792531</td>\n",
        "      <td>-0.792531</td>\n",
        "      <td>-0.792531</td>\n",
        "      <td>...</td>\n",
        "      <td>-0.342873</td>\n",
        "      <td>-0.342873</td>\n",
        "      <td>-0.342873</td>\n",
        "      <td>-0.342873</td>\n",
        "      <td>-0.342873</td>\n",
        "      <td>-0.342873</td>\n",
        "      <td>-0.342873</td>\n",
        "      <td>-0.342873</td>\n",
        "      <td>-0.342873</td>\n",
        "      <td>-0.885448</td>\n",
        "    </tr>\n",
        "    <tr>\n",
        "      <th>998</th>\n",
        "      <td> 0.124429</td>\n",
        "      <td> 0.124429</td>\n",
        "      <td> 0.124429</td>\n",
        "      <td> 0.124429</td>\n",
        "      <td> 0.124429</td>\n",
        "      <td> 0.124429</td>\n",
        "      <td> 0.124429</td>\n",
        "      <td> 0.124429</td>\n",
        "      <td> 0.124429</td>\n",
        "      <td> 0.124429</td>\n",
        "      <td>...</td>\n",
        "      <td>-0.471287</td>\n",
        "      <td>-0.471287</td>\n",
        "      <td>-0.471287</td>\n",
        "      <td>-0.471287</td>\n",
        "      <td>-0.471287</td>\n",
        "      <td>-0.471287</td>\n",
        "      <td>-0.471287</td>\n",
        "      <td>-0.471287</td>\n",
        "      <td>-0.471287</td>\n",
        "      <td>-0.527735</td>\n",
        "    </tr>\n",
        "    <tr>\n",
        "      <th>1123</th>\n",
        "      <td>-0.524770</td>\n",
        "      <td>-0.524770</td>\n",
        "      <td>-0.524770</td>\n",
        "      <td>-0.524770</td>\n",
        "      <td>-0.524770</td>\n",
        "      <td>-0.524770</td>\n",
        "      <td>-0.524770</td>\n",
        "      <td>-0.524770</td>\n",
        "      <td>-0.524770</td>\n",
        "      <td>-0.524770</td>\n",
        "      <td>...</td>\n",
        "      <td>-0.450739</td>\n",
        "      <td>-0.450739</td>\n",
        "      <td>-0.450739</td>\n",
        "      <td>-0.450739</td>\n",
        "      <td>-0.450739</td>\n",
        "      <td>-0.450739</td>\n",
        "      <td>-0.450739</td>\n",
        "      <td>-0.450739</td>\n",
        "      <td>-0.450739</td>\n",
        "      <td>-0.832470</td>\n",
        "    </tr>\n",
        "    <tr>\n",
        "      <th>947</th>\n",
        "      <td>-0.270269</td>\n",
        "      <td>-0.270269</td>\n",
        "      <td>-0.270269</td>\n",
        "      <td>-0.270269</td>\n",
        "      <td>-0.270269</td>\n",
        "      <td>-0.270269</td>\n",
        "      <td>-0.270269</td>\n",
        "      <td>-0.270269</td>\n",
        "      <td>-0.270269</td>\n",
        "      <td>-0.270269</td>\n",
        "      <td>...</td>\n",
        "      <td>-0.582344</td>\n",
        "      <td>-0.582344</td>\n",
        "      <td>-0.582344</td>\n",
        "      <td>-0.582344</td>\n",
        "      <td>-0.582344</td>\n",
        "      <td>-0.582344</td>\n",
        "      <td>-0.582344</td>\n",
        "      <td>-0.582344</td>\n",
        "      <td>-0.582344</td>\n",
        "      <td>-0.665068</td>\n",
        "    </tr>\n",
        "    <tr>\n",
        "      <th>550</th>\n",
        "      <td>-0.493370</td>\n",
        "      <td>-0.493370</td>\n",
        "      <td>-0.493370</td>\n",
        "      <td>-0.493370</td>\n",
        "      <td>-0.493370</td>\n",
        "      <td>-0.493370</td>\n",
        "      <td>-0.493370</td>\n",
        "      <td>-0.493370</td>\n",
        "      <td>-0.493370</td>\n",
        "      <td>-0.493370</td>\n",
        "      <td>...</td>\n",
        "      <td>-0.523636</td>\n",
        "      <td>-0.523636</td>\n",
        "      <td>-0.523636</td>\n",
        "      <td>-0.523636</td>\n",
        "      <td>-0.523636</td>\n",
        "      <td>-0.523636</td>\n",
        "      <td>-0.523636</td>\n",
        "      <td>-0.523636</td>\n",
        "      <td>-0.523636</td>\n",
        "      <td>-0.689004</td>\n",
        "    </tr>\n",
        "    <tr>\n",
        "      <th>771</th>\n",
        "      <td>-0.263154</td>\n",
        "      <td>-0.263154</td>\n",
        "      <td>-0.263154</td>\n",
        "      <td>-0.263154</td>\n",
        "      <td>-0.263154</td>\n",
        "      <td>-0.263154</td>\n",
        "      <td>-0.263154</td>\n",
        "      <td>-0.263154</td>\n",
        "      <td>-0.263154</td>\n",
        "      <td>-0.263154</td>\n",
        "      <td>...</td>\n",
        "      <td>-0.686646</td>\n",
        "      <td>-0.686646</td>\n",
        "      <td>-0.686646</td>\n",
        "      <td>-0.686646</td>\n",
        "      <td>-0.686646</td>\n",
        "      <td>-0.686646</td>\n",
        "      <td>-0.686646</td>\n",
        "      <td>-0.686646</td>\n",
        "      <td>-0.686646</td>\n",
        "      <td>-0.582648</td>\n",
        "    </tr>\n",
        "    <tr>\n",
        "      <th>1117</th>\n",
        "      <td>-0.480983</td>\n",
        "      <td>-0.480983</td>\n",
        "      <td>-0.480983</td>\n",
        "      <td>-0.480983</td>\n",
        "      <td>-0.480983</td>\n",
        "      <td>-0.480983</td>\n",
        "      <td>-0.480983</td>\n",
        "      <td>-0.480983</td>\n",
        "      <td>-0.480983</td>\n",
        "      <td>-0.480983</td>\n",
        "      <td>...</td>\n",
        "      <td>-0.409543</td>\n",
        "      <td>-0.409543</td>\n",
        "      <td>-0.409543</td>\n",
        "      <td>-0.409543</td>\n",
        "      <td>-0.409543</td>\n",
        "      <td>-0.409543</td>\n",
        "      <td>-0.409543</td>\n",
        "      <td>-0.409543</td>\n",
        "      <td>-0.409543</td>\n",
        "      <td>-0.804698</td>\n",
        "    </tr>\n",
        "    <tr>\n",
        "      <th>332</th>\n",
        "      <td>-0.476326</td>\n",
        "      <td>-0.476326</td>\n",
        "      <td>-0.476326</td>\n",
        "      <td>-0.476326</td>\n",
        "      <td>-0.476326</td>\n",
        "      <td>-0.476326</td>\n",
        "      <td>-0.476326</td>\n",
        "      <td>-0.476326</td>\n",
        "      <td>-0.476326</td>\n",
        "      <td>-0.476326</td>\n",
        "      <td>...</td>\n",
        "      <td>-0.723222</td>\n",
        "      <td>-0.723222</td>\n",
        "      <td>-0.723222</td>\n",
        "      <td>-0.723222</td>\n",
        "      <td>-0.723222</td>\n",
        "      <td>-0.723222</td>\n",
        "      <td>-0.723222</td>\n",
        "      <td>-0.723222</td>\n",
        "      <td>-0.723222</td>\n",
        "      <td>-0.907176</td>\n",
        "    </tr>\n",
        "    <tr>\n",
        "      <th>967</th>\n",
        "      <td>-0.110410</td>\n",
        "      <td>-0.110410</td>\n",
        "      <td>-0.110410</td>\n",
        "      <td>-0.110410</td>\n",
        "      <td>-0.110410</td>\n",
        "      <td>-0.110410</td>\n",
        "      <td>-0.110410</td>\n",
        "      <td>-0.110410</td>\n",
        "      <td>-0.110410</td>\n",
        "      <td>-0.110410</td>\n",
        "      <td>...</td>\n",
        "      <td>-0.491131</td>\n",
        "      <td>-0.491131</td>\n",
        "      <td>-0.491131</td>\n",
        "      <td>-0.491131</td>\n",
        "      <td>-0.491131</td>\n",
        "      <td>-0.491131</td>\n",
        "      <td>-0.491131</td>\n",
        "      <td>-0.491131</td>\n",
        "      <td>-0.491131</td>\n",
        "      <td>-0.703570</td>\n",
        "    </tr>\n",
        "    <tr>\n",
        "      <th>1076</th>\n",
        "      <td>-0.547263</td>\n",
        "      <td>-0.547263</td>\n",
        "      <td>-0.547263</td>\n",
        "      <td>-0.547263</td>\n",
        "      <td>-0.547263</td>\n",
        "      <td>-0.547263</td>\n",
        "      <td>-0.547263</td>\n",
        "      <td>-0.547263</td>\n",
        "      <td>-0.547263</td>\n",
        "      <td>-0.547263</td>\n",
        "      <td>...</td>\n",
        "      <td>-0.534673</td>\n",
        "      <td>-0.534673</td>\n",
        "      <td>-0.534673</td>\n",
        "      <td>-0.534673</td>\n",
        "      <td>-0.534673</td>\n",
        "      <td>-0.534673</td>\n",
        "      <td>-0.534673</td>\n",
        "      <td>-0.534673</td>\n",
        "      <td>-0.534673</td>\n",
        "      <td>-0.523515</td>\n",
        "    </tr>\n",
        "    <tr>\n",
        "      <th>884</th>\n",
        "      <td>-0.366107</td>\n",
        "      <td>-0.366107</td>\n",
        "      <td>-0.366107</td>\n",
        "      <td>-0.366107</td>\n",
        "      <td>-0.366107</td>\n",
        "      <td>-0.366107</td>\n",
        "      <td>-0.366107</td>\n",
        "      <td>-0.366107</td>\n",
        "      <td>-0.366107</td>\n",
        "      <td>-0.366107</td>\n",
        "      <td>...</td>\n",
        "      <td>-0.474261</td>\n",
        "      <td>-0.474261</td>\n",
        "      <td>-0.474261</td>\n",
        "      <td>-0.474261</td>\n",
        "      <td>-0.474261</td>\n",
        "      <td>-0.474261</td>\n",
        "      <td>-0.474261</td>\n",
        "      <td>-0.474261</td>\n",
        "      <td>-0.474261</td>\n",
        "      <td>-0.639821</td>\n",
        "    </tr>\n",
        "    <tr>\n",
        "      <th>701</th>\n",
        "      <td>-0.258152</td>\n",
        "      <td>-0.258152</td>\n",
        "      <td>-0.258152</td>\n",
        "      <td>-0.258152</td>\n",
        "      <td>-0.258152</td>\n",
        "      <td>-0.258152</td>\n",
        "      <td>-0.258152</td>\n",
        "      <td>-0.258152</td>\n",
        "      <td>-0.258152</td>\n",
        "      <td>-0.258152</td>\n",
        "      <td>...</td>\n",
        "      <td>-0.666246</td>\n",
        "      <td>-0.666246</td>\n",
        "      <td>-0.666246</td>\n",
        "      <td>-0.666246</td>\n",
        "      <td>-0.666246</td>\n",
        "      <td>-0.666246</td>\n",
        "      <td>-0.666246</td>\n",
        "      <td>-0.666246</td>\n",
        "      <td>-0.666246</td>\n",
        "      <td>-0.509707</td>\n",
        "    </tr>\n",
        "    <tr>\n",
        "      <th>702</th>\n",
        "      <td>-0.254626</td>\n",
        "      <td>-0.254626</td>\n",
        "      <td>-0.254626</td>\n",
        "      <td>-0.254626</td>\n",
        "      <td>-0.254626</td>\n",
        "      <td>-0.254626</td>\n",
        "      <td>-0.254626</td>\n",
        "      <td>-0.254626</td>\n",
        "      <td>-0.254626</td>\n",
        "      <td>-0.254626</td>\n",
        "      <td>...</td>\n",
        "      <td>-0.668214</td>\n",
        "      <td>-0.668214</td>\n",
        "      <td>-0.668214</td>\n",
        "      <td>-0.668214</td>\n",
        "      <td>-0.668214</td>\n",
        "      <td>-0.668214</td>\n",
        "      <td>-0.668214</td>\n",
        "      <td>-0.668214</td>\n",
        "      <td>-0.668214</td>\n",
        "      <td>-0.510186</td>\n",
        "    </tr>\n",
        "    <tr>\n",
        "      <th>...</th>\n",
        "      <td>...</td>\n",
        "      <td>...</td>\n",
        "      <td>...</td>\n",
        "      <td>...</td>\n",
        "      <td>...</td>\n",
        "      <td>...</td>\n",
        "      <td>...</td>\n",
        "      <td>...</td>\n",
        "      <td>...</td>\n",
        "      <td>...</td>\n",
        "      <td>...</td>\n",
        "      <td>...</td>\n",
        "      <td>...</td>\n",
        "      <td>...</td>\n",
        "      <td>...</td>\n",
        "      <td>...</td>\n",
        "      <td>...</td>\n",
        "      <td>...</td>\n",
        "      <td>...</td>\n",
        "      <td>...</td>\n",
        "      <td>...</td>\n",
        "    </tr>\n",
        "    <tr>\n",
        "      <th>198</th>\n",
        "      <td> 0.407058</td>\n",
        "      <td> 0.407058</td>\n",
        "      <td> 0.407058</td>\n",
        "      <td> 0.407058</td>\n",
        "      <td> 0.407058</td>\n",
        "      <td> 0.407058</td>\n",
        "      <td> 0.407058</td>\n",
        "      <td> 0.407058</td>\n",
        "      <td> 0.407058</td>\n",
        "      <td> 0.407058</td>\n",
        "      <td>...</td>\n",
        "      <td> 0.404905</td>\n",
        "      <td> 0.404905</td>\n",
        "      <td> 0.404905</td>\n",
        "      <td> 0.404905</td>\n",
        "      <td> 0.404905</td>\n",
        "      <td> 0.404905</td>\n",
        "      <td> 0.404905</td>\n",
        "      <td> 0.404905</td>\n",
        "      <td> 0.404905</td>\n",
        "      <td> 0.266508</td>\n",
        "    </tr>\n",
        "    <tr>\n",
        "      <th>430</th>\n",
        "      <td> 0.231512</td>\n",
        "      <td> 0.231512</td>\n",
        "      <td> 0.231512</td>\n",
        "      <td> 0.231512</td>\n",
        "      <td> 0.231512</td>\n",
        "      <td> 0.231512</td>\n",
        "      <td> 0.231512</td>\n",
        "      <td> 0.231512</td>\n",
        "      <td> 0.231512</td>\n",
        "      <td> 0.231512</td>\n",
        "      <td>...</td>\n",
        "      <td> 0.374453</td>\n",
        "      <td> 0.374453</td>\n",
        "      <td> 0.374453</td>\n",
        "      <td> 0.374453</td>\n",
        "      <td> 0.374453</td>\n",
        "      <td> 0.374453</td>\n",
        "      <td> 0.374453</td>\n",
        "      <td> 0.374453</td>\n",
        "      <td> 0.374453</td>\n",
        "      <td> 0.169917</td>\n",
        "    </tr>\n",
        "    <tr>\n",
        "      <th>706</th>\n",
        "      <td> 0.121664</td>\n",
        "      <td> 0.121664</td>\n",
        "      <td> 0.121664</td>\n",
        "      <td> 0.121664</td>\n",
        "      <td> 0.121664</td>\n",
        "      <td> 0.121664</td>\n",
        "      <td> 0.121664</td>\n",
        "      <td> 0.121664</td>\n",
        "      <td> 0.121664</td>\n",
        "      <td> 0.121664</td>\n",
        "      <td>...</td>\n",
        "      <td> 0.489826</td>\n",
        "      <td> 0.489826</td>\n",
        "      <td> 0.489826</td>\n",
        "      <td> 0.489826</td>\n",
        "      <td> 0.489826</td>\n",
        "      <td> 0.489826</td>\n",
        "      <td> 0.489826</td>\n",
        "      <td> 0.489826</td>\n",
        "      <td> 0.489826</td>\n",
        "      <td> 0.217114</td>\n",
        "    </tr>\n",
        "    <tr>\n",
        "      <th>950</th>\n",
        "      <td> 0.253033</td>\n",
        "      <td> 0.253033</td>\n",
        "      <td> 0.253033</td>\n",
        "      <td> 0.253033</td>\n",
        "      <td> 0.253033</td>\n",
        "      <td> 0.253033</td>\n",
        "      <td> 0.253033</td>\n",
        "      <td> 0.253033</td>\n",
        "      <td> 0.253033</td>\n",
        "      <td> 0.253033</td>\n",
        "      <td>...</td>\n",
        "      <td> 0.299734</td>\n",
        "      <td> 0.299734</td>\n",
        "      <td> 0.299734</td>\n",
        "      <td> 0.299734</td>\n",
        "      <td> 0.299734</td>\n",
        "      <td> 0.299734</td>\n",
        "      <td> 0.299734</td>\n",
        "      <td> 0.299734</td>\n",
        "      <td> 0.299734</td>\n",
        "      <td> 0.169086</td>\n",
        "    </tr>\n",
        "    <tr>\n",
        "      <th>1160</th>\n",
        "      <td> 0.231644</td>\n",
        "      <td> 0.231644</td>\n",
        "      <td> 0.231644</td>\n",
        "      <td> 0.231644</td>\n",
        "      <td> 0.231644</td>\n",
        "      <td> 0.231644</td>\n",
        "      <td> 0.231644</td>\n",
        "      <td> 0.231644</td>\n",
        "      <td> 0.231644</td>\n",
        "      <td> 0.231644</td>\n",
        "      <td>...</td>\n",
        "      <td> 0.707267</td>\n",
        "      <td> 0.707267</td>\n",
        "      <td> 0.707267</td>\n",
        "      <td> 0.707267</td>\n",
        "      <td> 0.707267</td>\n",
        "      <td> 0.707267</td>\n",
        "      <td> 0.707267</td>\n",
        "      <td> 0.707267</td>\n",
        "      <td> 0.707267</td>\n",
        "      <td> 0.315563</td>\n",
        "    </tr>\n",
        "    <tr>\n",
        "      <th>102</th>\n",
        "      <td> 0.150195</td>\n",
        "      <td> 0.150195</td>\n",
        "      <td> 0.150195</td>\n",
        "      <td> 0.150195</td>\n",
        "      <td> 0.150195</td>\n",
        "      <td> 0.150195</td>\n",
        "      <td> 0.150195</td>\n",
        "      <td> 0.150195</td>\n",
        "      <td> 0.150195</td>\n",
        "      <td> 0.150195</td>\n",
        "      <td>...</td>\n",
        "      <td> 0.521558</td>\n",
        "      <td> 0.521558</td>\n",
        "      <td> 0.521558</td>\n",
        "      <td> 0.521558</td>\n",
        "      <td> 0.521558</td>\n",
        "      <td> 0.521558</td>\n",
        "      <td> 0.521558</td>\n",
        "      <td> 0.521558</td>\n",
        "      <td> 0.521558</td>\n",
        "      <td> 0.190449</td>\n",
        "    </tr>\n",
        "    <tr>\n",
        "      <th>207</th>\n",
        "      <td> 0.141246</td>\n",
        "      <td> 0.141246</td>\n",
        "      <td> 0.141246</td>\n",
        "      <td> 0.141246</td>\n",
        "      <td> 0.141246</td>\n",
        "      <td> 0.141246</td>\n",
        "      <td> 0.141246</td>\n",
        "      <td> 0.141246</td>\n",
        "      <td> 0.141246</td>\n",
        "      <td> 0.141246</td>\n",
        "      <td>...</td>\n",
        "      <td> 0.422841</td>\n",
        "      <td> 0.422841</td>\n",
        "      <td> 0.422841</td>\n",
        "      <td> 0.422841</td>\n",
        "      <td> 0.422841</td>\n",
        "      <td> 0.422841</td>\n",
        "      <td> 0.422841</td>\n",
        "      <td> 0.422841</td>\n",
        "      <td> 0.422841</td>\n",
        "      <td> 0.146486</td>\n",
        "    </tr>\n",
        "    <tr>\n",
        "      <th>246</th>\n",
        "      <td> 0.246413</td>\n",
        "      <td> 0.246413</td>\n",
        "      <td> 0.246413</td>\n",
        "      <td> 0.246413</td>\n",
        "      <td> 0.246413</td>\n",
        "      <td> 0.246413</td>\n",
        "      <td> 0.246413</td>\n",
        "      <td> 0.246413</td>\n",
        "      <td> 0.246413</td>\n",
        "      <td> 0.246413</td>\n",
        "      <td>...</td>\n",
        "      <td> 0.099464</td>\n",
        "      <td> 0.099464</td>\n",
        "      <td> 0.099464</td>\n",
        "      <td> 0.099464</td>\n",
        "      <td> 0.099464</td>\n",
        "      <td> 0.099464</td>\n",
        "      <td> 0.099464</td>\n",
        "      <td> 0.099464</td>\n",
        "      <td> 0.099464</td>\n",
        "      <td> 0.099464</td>\n",
        "    </tr>\n",
        "    <tr>\n",
        "      <th>708</th>\n",
        "      <td>-0.411523</td>\n",
        "      <td>-0.411523</td>\n",
        "      <td>-0.411523</td>\n",
        "      <td>-0.411523</td>\n",
        "      <td>-0.411523</td>\n",
        "      <td>-0.411523</td>\n",
        "      <td>-0.411523</td>\n",
        "      <td>-0.411523</td>\n",
        "      <td>-0.411523</td>\n",
        "      <td>-0.411523</td>\n",
        "      <td>...</td>\n",
        "      <td> 0.580438</td>\n",
        "      <td> 0.580438</td>\n",
        "      <td> 0.580438</td>\n",
        "      <td> 0.580438</td>\n",
        "      <td> 0.580438</td>\n",
        "      <td> 0.580438</td>\n",
        "      <td> 0.580438</td>\n",
        "      <td> 0.580438</td>\n",
        "      <td> 0.580438</td>\n",
        "      <td> 0.360391</td>\n",
        "    </tr>\n",
        "    <tr>\n",
        "      <th>200</th>\n",
        "      <td> 0.252229</td>\n",
        "      <td> 0.252229</td>\n",
        "      <td> 0.252229</td>\n",
        "      <td> 0.252229</td>\n",
        "      <td> 0.252229</td>\n",
        "      <td> 0.252229</td>\n",
        "      <td> 0.252229</td>\n",
        "      <td> 0.252229</td>\n",
        "      <td> 0.252229</td>\n",
        "      <td> 0.252229</td>\n",
        "      <td>...</td>\n",
        "      <td> 0.424260</td>\n",
        "      <td> 0.424260</td>\n",
        "      <td> 0.424260</td>\n",
        "      <td> 0.424260</td>\n",
        "      <td> 0.424260</td>\n",
        "      <td> 0.424260</td>\n",
        "      <td> 0.424260</td>\n",
        "      <td> 0.424260</td>\n",
        "      <td> 0.424260</td>\n",
        "      <td> 0.228126</td>\n",
        "    </tr>\n",
        "    <tr>\n",
        "      <th>144</th>\n",
        "      <td> 0.238219</td>\n",
        "      <td> 0.238219</td>\n",
        "      <td> 0.238219</td>\n",
        "      <td> 0.238219</td>\n",
        "      <td> 0.238219</td>\n",
        "      <td> 0.238219</td>\n",
        "      <td> 0.238219</td>\n",
        "      <td> 0.238219</td>\n",
        "      <td> 0.238219</td>\n",
        "      <td> 0.238219</td>\n",
        "      <td>...</td>\n",
        "      <td> 0.425411</td>\n",
        "      <td> 0.425411</td>\n",
        "      <td> 0.425411</td>\n",
        "      <td> 0.425411</td>\n",
        "      <td> 0.425411</td>\n",
        "      <td> 0.425411</td>\n",
        "      <td> 0.425411</td>\n",
        "      <td> 0.425411</td>\n",
        "      <td> 0.425411</td>\n",
        "      <td> 0.216697</td>\n",
        "    </tr>\n",
        "    <tr>\n",
        "      <th>976</th>\n",
        "      <td>-0.223072</td>\n",
        "      <td>-0.223072</td>\n",
        "      <td>-0.223072</td>\n",
        "      <td>-0.223072</td>\n",
        "      <td>-0.223072</td>\n",
        "      <td>-0.223072</td>\n",
        "      <td>-0.223072</td>\n",
        "      <td>-0.223072</td>\n",
        "      <td>-0.223072</td>\n",
        "      <td>-0.223072</td>\n",
        "      <td>...</td>\n",
        "      <td> 0.577876</td>\n",
        "      <td> 0.577876</td>\n",
        "      <td> 0.577876</td>\n",
        "      <td> 0.577876</td>\n",
        "      <td> 0.577876</td>\n",
        "      <td> 0.577876</td>\n",
        "      <td> 0.577876</td>\n",
        "      <td> 0.577876</td>\n",
        "      <td> 0.577876</td>\n",
        "      <td> 0.339341</td>\n",
        "    </tr>\n",
        "    <tr>\n",
        "      <th>747</th>\n",
        "      <td> 0.277019</td>\n",
        "      <td> 0.277019</td>\n",
        "      <td> 0.277019</td>\n",
        "      <td> 0.277019</td>\n",
        "      <td> 0.277019</td>\n",
        "      <td> 0.277019</td>\n",
        "      <td> 0.277019</td>\n",
        "      <td> 0.277019</td>\n",
        "      <td> 0.277019</td>\n",
        "      <td> 0.277019</td>\n",
        "      <td>...</td>\n",
        "      <td> 0.458216</td>\n",
        "      <td> 0.458216</td>\n",
        "      <td> 0.458216</td>\n",
        "      <td> 0.458216</td>\n",
        "      <td> 0.458216</td>\n",
        "      <td> 0.458216</td>\n",
        "      <td> 0.458216</td>\n",
        "      <td> 0.458216</td>\n",
        "      <td> 0.458216</td>\n",
        "      <td> 0.291371</td>\n",
        "    </tr>\n",
        "    <tr>\n",
        "      <th>743</th>\n",
        "      <td> 0.271808</td>\n",
        "      <td> 0.271808</td>\n",
        "      <td> 0.271808</td>\n",
        "      <td> 0.271808</td>\n",
        "      <td> 0.271808</td>\n",
        "      <td> 0.271808</td>\n",
        "      <td> 0.271808</td>\n",
        "      <td> 0.271808</td>\n",
        "      <td> 0.271808</td>\n",
        "      <td> 0.271808</td>\n",
        "      <td>...</td>\n",
        "      <td> 0.490710</td>\n",
        "      <td> 0.490710</td>\n",
        "      <td> 0.490710</td>\n",
        "      <td> 0.490710</td>\n",
        "      <td> 0.490710</td>\n",
        "      <td> 0.490710</td>\n",
        "      <td> 0.490710</td>\n",
        "      <td> 0.490710</td>\n",
        "      <td> 0.490710</td>\n",
        "      <td> 0.320231</td>\n",
        "    </tr>\n",
        "    <tr>\n",
        "      <th>974</th>\n",
        "      <td>-0.103089</td>\n",
        "      <td>-0.103089</td>\n",
        "      <td>-0.103089</td>\n",
        "      <td>-0.103089</td>\n",
        "      <td>-0.103089</td>\n",
        "      <td>-0.103089</td>\n",
        "      <td>-0.103089</td>\n",
        "      <td>-0.103089</td>\n",
        "      <td>-0.103089</td>\n",
        "      <td>-0.103089</td>\n",
        "      <td>...</td>\n",
        "      <td> 0.558170</td>\n",
        "      <td> 0.558170</td>\n",
        "      <td> 0.558170</td>\n",
        "      <td> 0.558170</td>\n",
        "      <td> 0.558170</td>\n",
        "      <td> 0.558170</td>\n",
        "      <td> 0.558170</td>\n",
        "      <td> 0.558170</td>\n",
        "      <td> 0.558170</td>\n",
        "      <td> 0.367043</td>\n",
        "    </tr>\n",
        "    <tr>\n",
        "      <th>359</th>\n",
        "      <td> 0.254453</td>\n",
        "      <td> 0.254453</td>\n",
        "      <td> 0.254453</td>\n",
        "      <td> 0.254453</td>\n",
        "      <td> 0.254453</td>\n",
        "      <td> 0.254453</td>\n",
        "      <td> 0.254453</td>\n",
        "      <td> 0.254453</td>\n",
        "      <td> 0.254453</td>\n",
        "      <td> 0.254453</td>\n",
        "      <td>...</td>\n",
        "      <td> 0.563195</td>\n",
        "      <td> 0.563195</td>\n",
        "      <td> 0.563195</td>\n",
        "      <td> 0.563195</td>\n",
        "      <td> 0.563195</td>\n",
        "      <td> 0.563195</td>\n",
        "      <td> 0.563195</td>\n",
        "      <td> 0.563195</td>\n",
        "      <td> 0.563195</td>\n",
        "      <td> 0.219687</td>\n",
        "    </tr>\n",
        "    <tr>\n",
        "      <th>28</th>\n",
        "      <td> 0.280715</td>\n",
        "      <td> 0.280715</td>\n",
        "      <td> 0.280715</td>\n",
        "      <td> 0.280715</td>\n",
        "      <td> 0.280715</td>\n",
        "      <td> 0.280715</td>\n",
        "      <td> 0.280715</td>\n",
        "      <td> 0.280715</td>\n",
        "      <td> 0.280715</td>\n",
        "      <td> 0.280715</td>\n",
        "      <td>...</td>\n",
        "      <td> 0.570493</td>\n",
        "      <td> 0.570493</td>\n",
        "      <td> 0.570493</td>\n",
        "      <td> 0.570493</td>\n",
        "      <td> 0.570493</td>\n",
        "      <td> 0.570493</td>\n",
        "      <td> 0.570493</td>\n",
        "      <td> 0.570493</td>\n",
        "      <td> 0.570493</td>\n",
        "      <td> 0.309497</td>\n",
        "    </tr>\n",
        "    <tr>\n",
        "      <th>35</th>\n",
        "      <td> 0.013366</td>\n",
        "      <td> 0.013366</td>\n",
        "      <td> 0.013366</td>\n",
        "      <td> 0.013366</td>\n",
        "      <td> 0.013366</td>\n",
        "      <td> 0.013366</td>\n",
        "      <td> 0.013366</td>\n",
        "      <td> 0.013366</td>\n",
        "      <td> 0.013366</td>\n",
        "      <td> 0.013366</td>\n",
        "      <td>...</td>\n",
        "      <td> 0.484596</td>\n",
        "      <td> 0.484596</td>\n",
        "      <td> 0.484596</td>\n",
        "      <td> 0.484596</td>\n",
        "      <td> 0.484596</td>\n",
        "      <td> 0.484596</td>\n",
        "      <td> 0.484596</td>\n",
        "      <td> 0.484596</td>\n",
        "      <td> 0.484596</td>\n",
        "      <td> 0.226240</td>\n",
        "    </tr>\n",
        "    <tr>\n",
        "      <th>258</th>\n",
        "      <td> 0.267213</td>\n",
        "      <td> 0.267213</td>\n",
        "      <td> 0.267213</td>\n",
        "      <td> 0.267213</td>\n",
        "      <td> 0.267213</td>\n",
        "      <td> 0.267213</td>\n",
        "      <td> 0.267213</td>\n",
        "      <td> 0.267213</td>\n",
        "      <td> 0.267213</td>\n",
        "      <td> 0.267213</td>\n",
        "      <td>...</td>\n",
        "      <td> 0.566356</td>\n",
        "      <td> 0.566356</td>\n",
        "      <td> 0.566356</td>\n",
        "      <td> 0.566356</td>\n",
        "      <td> 0.566356</td>\n",
        "      <td> 0.566356</td>\n",
        "      <td> 0.566356</td>\n",
        "      <td> 0.566356</td>\n",
        "      <td> 0.566356</td>\n",
        "      <td> 0.148370</td>\n",
        "    </tr>\n",
        "    <tr>\n",
        "      <th>157</th>\n",
        "      <td> 0.392220</td>\n",
        "      <td> 0.392220</td>\n",
        "      <td> 0.392220</td>\n",
        "      <td> 0.392220</td>\n",
        "      <td> 0.392220</td>\n",
        "      <td> 0.392220</td>\n",
        "      <td> 0.392220</td>\n",
        "      <td> 0.392220</td>\n",
        "      <td> 0.392220</td>\n",
        "      <td> 0.392220</td>\n",
        "      <td>...</td>\n",
        "      <td> 0.668935</td>\n",
        "      <td> 0.668935</td>\n",
        "      <td> 0.668935</td>\n",
        "      <td> 0.668935</td>\n",
        "      <td> 0.668935</td>\n",
        "      <td> 0.668935</td>\n",
        "      <td> 0.668935</td>\n",
        "      <td> 0.668935</td>\n",
        "      <td> 0.668935</td>\n",
        "      <td> 0.254982</td>\n",
        "    </tr>\n",
        "    <tr>\n",
        "      <th>420</th>\n",
        "      <td> 0.262697</td>\n",
        "      <td> 0.262697</td>\n",
        "      <td> 0.262697</td>\n",
        "      <td> 0.262697</td>\n",
        "      <td> 0.262697</td>\n",
        "      <td> 0.262697</td>\n",
        "      <td> 0.262697</td>\n",
        "      <td> 0.262697</td>\n",
        "      <td> 0.262697</td>\n",
        "      <td> 0.262697</td>\n",
        "      <td>...</td>\n",
        "      <td> 0.658918</td>\n",
        "      <td> 0.658918</td>\n",
        "      <td> 0.658918</td>\n",
        "      <td> 0.658918</td>\n",
        "      <td> 0.658918</td>\n",
        "      <td> 0.658918</td>\n",
        "      <td> 0.658918</td>\n",
        "      <td> 0.658918</td>\n",
        "      <td> 0.658918</td>\n",
        "      <td> 0.212298</td>\n",
        "    </tr>\n",
        "    <tr>\n",
        "      <th>418</th>\n",
        "      <td> 0.262697</td>\n",
        "      <td> 0.262697</td>\n",
        "      <td> 0.262697</td>\n",
        "      <td> 0.262697</td>\n",
        "      <td> 0.262697</td>\n",
        "      <td> 0.262697</td>\n",
        "      <td> 0.262697</td>\n",
        "      <td> 0.262697</td>\n",
        "      <td> 0.262697</td>\n",
        "      <td> 0.262697</td>\n",
        "      <td>...</td>\n",
        "      <td> 0.658918</td>\n",
        "      <td> 0.658918</td>\n",
        "      <td> 0.658918</td>\n",
        "      <td> 0.658918</td>\n",
        "      <td> 0.658918</td>\n",
        "      <td> 0.658918</td>\n",
        "      <td> 0.658918</td>\n",
        "      <td> 0.658918</td>\n",
        "      <td> 0.658918</td>\n",
        "      <td> 0.212298</td>\n",
        "    </tr>\n",
        "    <tr>\n",
        "      <th>1009</th>\n",
        "      <td> 0.235308</td>\n",
        "      <td> 0.235308</td>\n",
        "      <td> 0.235308</td>\n",
        "      <td> 0.235308</td>\n",
        "      <td> 0.235308</td>\n",
        "      <td> 0.235308</td>\n",
        "      <td> 0.235308</td>\n",
        "      <td> 0.235308</td>\n",
        "      <td> 0.235308</td>\n",
        "      <td> 0.235308</td>\n",
        "      <td>...</td>\n",
        "      <td> 0.705161</td>\n",
        "      <td> 0.705161</td>\n",
        "      <td> 0.705161</td>\n",
        "      <td> 0.705161</td>\n",
        "      <td> 0.705161</td>\n",
        "      <td> 0.705161</td>\n",
        "      <td> 0.705161</td>\n",
        "      <td> 0.705161</td>\n",
        "      <td> 0.705161</td>\n",
        "      <td> 0.356049</td>\n",
        "    </tr>\n",
        "    <tr>\n",
        "      <th>613</th>\n",
        "      <td> 0.163178</td>\n",
        "      <td> 0.163178</td>\n",
        "      <td> 0.163178</td>\n",
        "      <td> 0.163178</td>\n",
        "      <td> 0.163178</td>\n",
        "      <td> 0.163178</td>\n",
        "      <td> 0.163178</td>\n",
        "      <td> 0.163178</td>\n",
        "      <td> 0.163178</td>\n",
        "      <td> 0.163178</td>\n",
        "      <td>...</td>\n",
        "      <td> 0.793112</td>\n",
        "      <td> 0.793112</td>\n",
        "      <td> 0.793112</td>\n",
        "      <td> 0.793112</td>\n",
        "      <td> 0.793112</td>\n",
        "      <td> 0.793112</td>\n",
        "      <td> 0.793112</td>\n",
        "      <td> 0.793112</td>\n",
        "      <td> 0.793112</td>\n",
        "      <td> 0.550236</td>\n",
        "    </tr>\n",
        "    <tr>\n",
        "      <th>1084</th>\n",
        "      <td>      NaN</td>\n",
        "      <td>      NaN</td>\n",
        "      <td>      NaN</td>\n",
        "      <td>      NaN</td>\n",
        "      <td>      NaN</td>\n",
        "      <td>      NaN</td>\n",
        "      <td>      NaN</td>\n",
        "      <td>      NaN</td>\n",
        "      <td>      NaN</td>\n",
        "      <td>      NaN</td>\n",
        "      <td>...</td>\n",
        "      <td> 0.552463</td>\n",
        "      <td> 0.552463</td>\n",
        "      <td> 0.552463</td>\n",
        "      <td> 0.552463</td>\n",
        "      <td> 0.552463</td>\n",
        "      <td> 0.552463</td>\n",
        "      <td> 0.552463</td>\n",
        "      <td> 0.552463</td>\n",
        "      <td> 0.552463</td>\n",
        "      <td> 0.278194</td>\n",
        "    </tr>\n",
        "    <tr>\n",
        "      <th>434</th>\n",
        "      <td> 0.320258</td>\n",
        "      <td> 0.320258</td>\n",
        "      <td> 0.320258</td>\n",
        "      <td> 0.320258</td>\n",
        "      <td> 0.320258</td>\n",
        "      <td> 0.320258</td>\n",
        "      <td> 0.320258</td>\n",
        "      <td> 0.320258</td>\n",
        "      <td> 0.320258</td>\n",
        "      <td> 0.320258</td>\n",
        "      <td>...</td>\n",
        "      <td> 0.678042</td>\n",
        "      <td> 0.678042</td>\n",
        "      <td> 0.678042</td>\n",
        "      <td> 0.678042</td>\n",
        "      <td> 0.678042</td>\n",
        "      <td> 0.678042</td>\n",
        "      <td> 0.678042</td>\n",
        "      <td> 0.678042</td>\n",
        "      <td> 0.678042</td>\n",
        "      <td> 0.252686</td>\n",
        "    </tr>\n",
        "    <tr>\n",
        "      <th>354</th>\n",
        "      <td> 0.342702</td>\n",
        "      <td> 0.342702</td>\n",
        "      <td> 0.342702</td>\n",
        "      <td> 0.342702</td>\n",
        "      <td> 0.342702</td>\n",
        "      <td> 0.342702</td>\n",
        "      <td> 0.342702</td>\n",
        "      <td> 0.342702</td>\n",
        "      <td> 0.342702</td>\n",
        "      <td> 0.342702</td>\n",
        "      <td>...</td>\n",
        "      <td> 0.644804</td>\n",
        "      <td> 0.644804</td>\n",
        "      <td> 0.644804</td>\n",
        "      <td> 0.644804</td>\n",
        "      <td> 0.644804</td>\n",
        "      <td> 0.644804</td>\n",
        "      <td> 0.644804</td>\n",
        "      <td> 0.644804</td>\n",
        "      <td> 0.644804</td>\n",
        "      <td> 0.267618</td>\n",
        "    </tr>\n",
        "    <tr>\n",
        "      <th>259</th>\n",
        "      <td> 0.404610</td>\n",
        "      <td> 0.404610</td>\n",
        "      <td> 0.404610</td>\n",
        "      <td> 0.404610</td>\n",
        "      <td> 0.404610</td>\n",
        "      <td> 0.404610</td>\n",
        "      <td> 0.404610</td>\n",
        "      <td> 0.404610</td>\n",
        "      <td> 0.404610</td>\n",
        "      <td> 0.404610</td>\n",
        "      <td>...</td>\n",
        "      <td> 0.576424</td>\n",
        "      <td> 0.576424</td>\n",
        "      <td> 0.576424</td>\n",
        "      <td> 0.576424</td>\n",
        "      <td> 0.576424</td>\n",
        "      <td> 0.576424</td>\n",
        "      <td> 0.576424</td>\n",
        "      <td> 0.576424</td>\n",
        "      <td> 0.576424</td>\n",
        "      <td> 0.487184</td>\n",
        "    </tr>\n",
        "    <tr>\n",
        "      <th>1008</th>\n",
        "      <td> 0.581642</td>\n",
        "      <td> 0.581642</td>\n",
        "      <td> 0.581642</td>\n",
        "      <td> 0.581642</td>\n",
        "      <td> 0.581642</td>\n",
        "      <td> 0.581642</td>\n",
        "      <td> 0.581642</td>\n",
        "      <td> 0.581642</td>\n",
        "      <td> 0.581642</td>\n",
        "      <td> 0.581642</td>\n",
        "      <td>...</td>\n",
        "      <td> 0.784994</td>\n",
        "      <td> 0.784994</td>\n",
        "      <td> 0.784994</td>\n",
        "      <td> 0.784994</td>\n",
        "      <td> 0.784994</td>\n",
        "      <td> 0.784994</td>\n",
        "      <td> 0.784994</td>\n",
        "      <td> 0.784994</td>\n",
        "      <td> 0.784994</td>\n",
        "      <td> 0.237798</td>\n",
        "    </tr>\n",
        "    <tr>\n",
        "      <th>888</th>\n",
        "      <td> 0.173395</td>\n",
        "      <td> 0.173395</td>\n",
        "      <td> 0.173395</td>\n",
        "      <td> 0.173395</td>\n",
        "      <td> 0.173395</td>\n",
        "      <td> 0.173395</td>\n",
        "      <td> 0.173395</td>\n",
        "      <td> 0.173395</td>\n",
        "      <td> 0.173395</td>\n",
        "      <td> 0.173395</td>\n",
        "      <td>...</td>\n",
        "      <td> 0.626945</td>\n",
        "      <td> 0.626945</td>\n",
        "      <td> 0.626945</td>\n",
        "      <td> 0.626945</td>\n",
        "      <td> 0.626945</td>\n",
        "      <td> 0.626945</td>\n",
        "      <td> 0.626945</td>\n",
        "      <td> 0.626945</td>\n",
        "      <td> 0.626945</td>\n",
        "      <td> 0.676933</td>\n",
        "    </tr>\n",
        "  </tbody>\n",
        "</table>\n",
        "<p>369 rows \u00d7 2923 columns</p>\n",
        "</div>"
       ],
       "metadata": {},
       "output_type": "pyout",
       "prompt_number": 31,
       "text": [
        "      2006-01-31  2006-02-01  2006-02-02  2006-02-03  2006-02-04  2006-02-05  \\\n",
        "405    -0.817976   -0.817976   -0.817976   -0.817976   -0.817976   -0.817976   \n",
        "406    -0.738066   -0.738066   -0.738066   -0.738066   -0.738066   -0.738066   \n",
        "997    -0.780387   -0.780387   -0.780387   -0.780387   -0.780387   -0.780387   \n",
        "330    -0.754735   -0.754735   -0.754735   -0.754735   -0.754735   -0.754735   \n",
        "1121   -0.571974   -0.571974   -0.571974   -0.571974   -0.571974   -0.571974   \n",
        "999    -0.696256   -0.696256   -0.696256   -0.696256   -0.696256   -0.696256   \n",
        "433    -0.663784   -0.663784   -0.663784   -0.663784   -0.663784   -0.663784   \n",
        "205    -0.476832   -0.476832   -0.476832   -0.476832   -0.476832   -0.476832   \n",
        "403    -0.852396   -0.852396   -0.852396   -0.852396   -0.852396   -0.852396   \n",
        "408    -0.734444   -0.734444   -0.734444   -0.734444   -0.734444   -0.734444   \n",
        "964    -0.844611   -0.844611   -0.844611   -0.844611   -0.844611   -0.844611   \n",
        "407    -0.809149   -0.809149   -0.809149   -0.809149   -0.809149   -0.809149   \n",
        "966    -0.843068   -0.843068   -0.843068   -0.843068   -0.843068   -0.843068   \n",
        "331    -0.259162   -0.259162   -0.259162   -0.259162   -0.259162   -0.259162   \n",
        "325    -0.581718   -0.581718   -0.581718   -0.581718   -0.581718   -0.581718   \n",
        "251    -0.750614   -0.750614   -0.750614   -0.750614   -0.750614   -0.750614   \n",
        "154    -0.560780   -0.560780   -0.560780   -0.560780   -0.560780   -0.560780   \n",
        "326    -0.792531   -0.792531   -0.792531   -0.792531   -0.792531   -0.792531   \n",
        "998     0.124429    0.124429    0.124429    0.124429    0.124429    0.124429   \n",
        "1123   -0.524770   -0.524770   -0.524770   -0.524770   -0.524770   -0.524770   \n",
        "947    -0.270269   -0.270269   -0.270269   -0.270269   -0.270269   -0.270269   \n",
        "550    -0.493370   -0.493370   -0.493370   -0.493370   -0.493370   -0.493370   \n",
        "771    -0.263154   -0.263154   -0.263154   -0.263154   -0.263154   -0.263154   \n",
        "1117   -0.480983   -0.480983   -0.480983   -0.480983   -0.480983   -0.480983   \n",
        "332    -0.476326   -0.476326   -0.476326   -0.476326   -0.476326   -0.476326   \n",
        "967    -0.110410   -0.110410   -0.110410   -0.110410   -0.110410   -0.110410   \n",
        "1076   -0.547263   -0.547263   -0.547263   -0.547263   -0.547263   -0.547263   \n",
        "884    -0.366107   -0.366107   -0.366107   -0.366107   -0.366107   -0.366107   \n",
        "701    -0.258152   -0.258152   -0.258152   -0.258152   -0.258152   -0.258152   \n",
        "702    -0.254626   -0.254626   -0.254626   -0.254626   -0.254626   -0.254626   \n",
        "...          ...         ...         ...         ...         ...         ...   \n",
        "198     0.407058    0.407058    0.407058    0.407058    0.407058    0.407058   \n",
        "430     0.231512    0.231512    0.231512    0.231512    0.231512    0.231512   \n",
        "706     0.121664    0.121664    0.121664    0.121664    0.121664    0.121664   \n",
        "950     0.253033    0.253033    0.253033    0.253033    0.253033    0.253033   \n",
        "1160    0.231644    0.231644    0.231644    0.231644    0.231644    0.231644   \n",
        "102     0.150195    0.150195    0.150195    0.150195    0.150195    0.150195   \n",
        "207     0.141246    0.141246    0.141246    0.141246    0.141246    0.141246   \n",
        "246     0.246413    0.246413    0.246413    0.246413    0.246413    0.246413   \n",
        "708    -0.411523   -0.411523   -0.411523   -0.411523   -0.411523   -0.411523   \n",
        "200     0.252229    0.252229    0.252229    0.252229    0.252229    0.252229   \n",
        "144     0.238219    0.238219    0.238219    0.238219    0.238219    0.238219   \n",
        "976    -0.223072   -0.223072   -0.223072   -0.223072   -0.223072   -0.223072   \n",
        "747     0.277019    0.277019    0.277019    0.277019    0.277019    0.277019   \n",
        "743     0.271808    0.271808    0.271808    0.271808    0.271808    0.271808   \n",
        "974    -0.103089   -0.103089   -0.103089   -0.103089   -0.103089   -0.103089   \n",
        "359     0.254453    0.254453    0.254453    0.254453    0.254453    0.254453   \n",
        "28      0.280715    0.280715    0.280715    0.280715    0.280715    0.280715   \n",
        "35      0.013366    0.013366    0.013366    0.013366    0.013366    0.013366   \n",
        "258     0.267213    0.267213    0.267213    0.267213    0.267213    0.267213   \n",
        "157     0.392220    0.392220    0.392220    0.392220    0.392220    0.392220   \n",
        "420     0.262697    0.262697    0.262697    0.262697    0.262697    0.262697   \n",
        "418     0.262697    0.262697    0.262697    0.262697    0.262697    0.262697   \n",
        "1009    0.235308    0.235308    0.235308    0.235308    0.235308    0.235308   \n",
        "613     0.163178    0.163178    0.163178    0.163178    0.163178    0.163178   \n",
        "1084         NaN         NaN         NaN         NaN         NaN         NaN   \n",
        "434     0.320258    0.320258    0.320258    0.320258    0.320258    0.320258   \n",
        "354     0.342702    0.342702    0.342702    0.342702    0.342702    0.342702   \n",
        "259     0.404610    0.404610    0.404610    0.404610    0.404610    0.404610   \n",
        "1008    0.581642    0.581642    0.581642    0.581642    0.581642    0.581642   \n",
        "888     0.173395    0.173395    0.173395    0.173395    0.173395    0.173395   \n",
        "\n",
        "      2006-02-06  2006-02-07  2006-02-08  2006-02-09     ...      2014-01-22  \\\n",
        "405    -0.817976   -0.817976   -0.817976   -0.817976     ...       -0.910688   \n",
        "406    -0.738066   -0.738066   -0.738066   -0.738066     ...       -0.873622   \n",
        "997    -0.780387   -0.780387   -0.780387   -0.780387     ...       -0.796847   \n",
        "330    -0.754735   -0.754735   -0.754735   -0.754735     ...       -0.901162   \n",
        "1121   -0.571974   -0.571974   -0.571974   -0.571974     ...       -0.853968   \n",
        "999    -0.696256   -0.696256   -0.696256   -0.696256     ...       -0.776772   \n",
        "433    -0.663784   -0.663784   -0.663784   -0.663784     ...       -0.736488   \n",
        "205    -0.476832   -0.476832   -0.476832   -0.476832     ...       -0.776768   \n",
        "403    -0.852396   -0.852396   -0.852396   -0.852396     ...       -0.585887   \n",
        "408    -0.734444   -0.734444   -0.734444   -0.734444     ...       -0.642482   \n",
        "964    -0.844611   -0.844611   -0.844611   -0.844611     ...       -0.633819   \n",
        "407    -0.809149   -0.809149   -0.809149   -0.809149     ...       -0.539305   \n",
        "966    -0.843068   -0.843068   -0.843068   -0.843068     ...       -0.617946   \n",
        "331    -0.259162   -0.259162   -0.259162   -0.259162     ...       -0.742964   \n",
        "325    -0.581718   -0.581718   -0.581718   -0.581718     ...       -0.743162   \n",
        "251    -0.750614   -0.750614   -0.750614   -0.750614     ...       -0.577227   \n",
        "154    -0.560780   -0.560780   -0.560780   -0.560780     ...       -0.635022   \n",
        "326    -0.792531   -0.792531   -0.792531   -0.792531     ...       -0.342873   \n",
        "998     0.124429    0.124429    0.124429    0.124429     ...       -0.471287   \n",
        "1123   -0.524770   -0.524770   -0.524770   -0.524770     ...       -0.450739   \n",
        "947    -0.270269   -0.270269   -0.270269   -0.270269     ...       -0.582344   \n",
        "550    -0.493370   -0.493370   -0.493370   -0.493370     ...       -0.523636   \n",
        "771    -0.263154   -0.263154   -0.263154   -0.263154     ...       -0.686646   \n",
        "1117   -0.480983   -0.480983   -0.480983   -0.480983     ...       -0.409543   \n",
        "332    -0.476326   -0.476326   -0.476326   -0.476326     ...       -0.723222   \n",
        "967    -0.110410   -0.110410   -0.110410   -0.110410     ...       -0.491131   \n",
        "1076   -0.547263   -0.547263   -0.547263   -0.547263     ...       -0.534673   \n",
        "884    -0.366107   -0.366107   -0.366107   -0.366107     ...       -0.474261   \n",
        "701    -0.258152   -0.258152   -0.258152   -0.258152     ...       -0.666246   \n",
        "702    -0.254626   -0.254626   -0.254626   -0.254626     ...       -0.668214   \n",
        "...          ...         ...         ...         ...     ...             ...   \n",
        "198     0.407058    0.407058    0.407058    0.407058     ...        0.404905   \n",
        "430     0.231512    0.231512    0.231512    0.231512     ...        0.374453   \n",
        "706     0.121664    0.121664    0.121664    0.121664     ...        0.489826   \n",
        "950     0.253033    0.253033    0.253033    0.253033     ...        0.299734   \n",
        "1160    0.231644    0.231644    0.231644    0.231644     ...        0.707267   \n",
        "102     0.150195    0.150195    0.150195    0.150195     ...        0.521558   \n",
        "207     0.141246    0.141246    0.141246    0.141246     ...        0.422841   \n",
        "246     0.246413    0.246413    0.246413    0.246413     ...        0.099464   \n",
        "708    -0.411523   -0.411523   -0.411523   -0.411523     ...        0.580438   \n",
        "200     0.252229    0.252229    0.252229    0.252229     ...        0.424260   \n",
        "144     0.238219    0.238219    0.238219    0.238219     ...        0.425411   \n",
        "976    -0.223072   -0.223072   -0.223072   -0.223072     ...        0.577876   \n",
        "747     0.277019    0.277019    0.277019    0.277019     ...        0.458216   \n",
        "743     0.271808    0.271808    0.271808    0.271808     ...        0.490710   \n",
        "974    -0.103089   -0.103089   -0.103089   -0.103089     ...        0.558170   \n",
        "359     0.254453    0.254453    0.254453    0.254453     ...        0.563195   \n",
        "28      0.280715    0.280715    0.280715    0.280715     ...        0.570493   \n",
        "35      0.013366    0.013366    0.013366    0.013366     ...        0.484596   \n",
        "258     0.267213    0.267213    0.267213    0.267213     ...        0.566356   \n",
        "157     0.392220    0.392220    0.392220    0.392220     ...        0.668935   \n",
        "420     0.262697    0.262697    0.262697    0.262697     ...        0.658918   \n",
        "418     0.262697    0.262697    0.262697    0.262697     ...        0.658918   \n",
        "1009    0.235308    0.235308    0.235308    0.235308     ...        0.705161   \n",
        "613     0.163178    0.163178    0.163178    0.163178     ...        0.793112   \n",
        "1084         NaN         NaN         NaN         NaN     ...        0.552463   \n",
        "434     0.320258    0.320258    0.320258    0.320258     ...        0.678042   \n",
        "354     0.342702    0.342702    0.342702    0.342702     ...        0.644804   \n",
        "259     0.404610    0.404610    0.404610    0.404610     ...        0.576424   \n",
        "1008    0.581642    0.581642    0.581642    0.581642     ...        0.784994   \n",
        "888     0.173395    0.173395    0.173395    0.173395     ...        0.626945   \n",
        "\n",
        "      2014-01-23  2014-01-24  2014-01-25  2014-01-26  2014-01-27  2014-01-28  \\\n",
        "405    -0.910688   -0.910688   -0.910688   -0.910688   -0.910688   -0.910688   \n",
        "406    -0.873622   -0.873622   -0.873622   -0.873622   -0.873622   -0.873622   \n",
        "997    -0.796847   -0.796847   -0.796847   -0.796847   -0.796847   -0.796847   \n",
        "330    -0.901162   -0.901162   -0.901162   -0.901162   -0.901162   -0.901162   \n",
        "1121   -0.853968   -0.853968   -0.853968   -0.853968   -0.853968   -0.853968   \n",
        "999    -0.776772   -0.776772   -0.776772   -0.776772   -0.776772   -0.776772   \n",
        "433    -0.736488   -0.736488   -0.736488   -0.736488   -0.736488   -0.736488   \n",
        "205    -0.776768   -0.776768   -0.776768   -0.776768   -0.776768   -0.776768   \n",
        "403    -0.585887   -0.585887   -0.585887   -0.585887   -0.585887   -0.585887   \n",
        "408    -0.642482   -0.642482   -0.642482   -0.642482   -0.642482   -0.642482   \n",
        "964    -0.633819   -0.633819   -0.633819   -0.633819   -0.633819   -0.633819   \n",
        "407    -0.539305   -0.539305   -0.539305   -0.539305   -0.539305   -0.539305   \n",
        "966    -0.617946   -0.617946   -0.617946   -0.617946   -0.617946   -0.617946   \n",
        "331    -0.742964   -0.742964   -0.742964   -0.742964   -0.742964   -0.742964   \n",
        "325    -0.743162   -0.743162   -0.743162   -0.743162   -0.743162   -0.743162   \n",
        "251    -0.577227   -0.577227   -0.577227   -0.577227   -0.577227   -0.577227   \n",
        "154    -0.635022   -0.635022   -0.635022   -0.635022   -0.635022   -0.635022   \n",
        "326    -0.342873   -0.342873   -0.342873   -0.342873   -0.342873   -0.342873   \n",
        "998    -0.471287   -0.471287   -0.471287   -0.471287   -0.471287   -0.471287   \n",
        "1123   -0.450739   -0.450739   -0.450739   -0.450739   -0.450739   -0.450739   \n",
        "947    -0.582344   -0.582344   -0.582344   -0.582344   -0.582344   -0.582344   \n",
        "550    -0.523636   -0.523636   -0.523636   -0.523636   -0.523636   -0.523636   \n",
        "771    -0.686646   -0.686646   -0.686646   -0.686646   -0.686646   -0.686646   \n",
        "1117   -0.409543   -0.409543   -0.409543   -0.409543   -0.409543   -0.409543   \n",
        "332    -0.723222   -0.723222   -0.723222   -0.723222   -0.723222   -0.723222   \n",
        "967    -0.491131   -0.491131   -0.491131   -0.491131   -0.491131   -0.491131   \n",
        "1076   -0.534673   -0.534673   -0.534673   -0.534673   -0.534673   -0.534673   \n",
        "884    -0.474261   -0.474261   -0.474261   -0.474261   -0.474261   -0.474261   \n",
        "701    -0.666246   -0.666246   -0.666246   -0.666246   -0.666246   -0.666246   \n",
        "702    -0.668214   -0.668214   -0.668214   -0.668214   -0.668214   -0.668214   \n",
        "...          ...         ...         ...         ...         ...         ...   \n",
        "198     0.404905    0.404905    0.404905    0.404905    0.404905    0.404905   \n",
        "430     0.374453    0.374453    0.374453    0.374453    0.374453    0.374453   \n",
        "706     0.489826    0.489826    0.489826    0.489826    0.489826    0.489826   \n",
        "950     0.299734    0.299734    0.299734    0.299734    0.299734    0.299734   \n",
        "1160    0.707267    0.707267    0.707267    0.707267    0.707267    0.707267   \n",
        "102     0.521558    0.521558    0.521558    0.521558    0.521558    0.521558   \n",
        "207     0.422841    0.422841    0.422841    0.422841    0.422841    0.422841   \n",
        "246     0.099464    0.099464    0.099464    0.099464    0.099464    0.099464   \n",
        "708     0.580438    0.580438    0.580438    0.580438    0.580438    0.580438   \n",
        "200     0.424260    0.424260    0.424260    0.424260    0.424260    0.424260   \n",
        "144     0.425411    0.425411    0.425411    0.425411    0.425411    0.425411   \n",
        "976     0.577876    0.577876    0.577876    0.577876    0.577876    0.577876   \n",
        "747     0.458216    0.458216    0.458216    0.458216    0.458216    0.458216   \n",
        "743     0.490710    0.490710    0.490710    0.490710    0.490710    0.490710   \n",
        "974     0.558170    0.558170    0.558170    0.558170    0.558170    0.558170   \n",
        "359     0.563195    0.563195    0.563195    0.563195    0.563195    0.563195   \n",
        "28      0.570493    0.570493    0.570493    0.570493    0.570493    0.570493   \n",
        "35      0.484596    0.484596    0.484596    0.484596    0.484596    0.484596   \n",
        "258     0.566356    0.566356    0.566356    0.566356    0.566356    0.566356   \n",
        "157     0.668935    0.668935    0.668935    0.668935    0.668935    0.668935   \n",
        "420     0.658918    0.658918    0.658918    0.658918    0.658918    0.658918   \n",
        "418     0.658918    0.658918    0.658918    0.658918    0.658918    0.658918   \n",
        "1009    0.705161    0.705161    0.705161    0.705161    0.705161    0.705161   \n",
        "613     0.793112    0.793112    0.793112    0.793112    0.793112    0.793112   \n",
        "1084    0.552463    0.552463    0.552463    0.552463    0.552463    0.552463   \n",
        "434     0.678042    0.678042    0.678042    0.678042    0.678042    0.678042   \n",
        "354     0.644804    0.644804    0.644804    0.644804    0.644804    0.644804   \n",
        "259     0.576424    0.576424    0.576424    0.576424    0.576424    0.576424   \n",
        "1008    0.784994    0.784994    0.784994    0.784994    0.784994    0.784994   \n",
        "888     0.626945    0.626945    0.626945    0.626945    0.626945    0.626945   \n",
        "\n",
        "      2014-01-29  2014-01-30  2014-01-31  \n",
        "405    -0.910688   -0.910688   -0.836340  \n",
        "406    -0.873622   -0.873622   -0.795988  \n",
        "997    -0.796847   -0.796847   -0.833563  \n",
        "330    -0.901162   -0.901162   -0.845156  \n",
        "1121   -0.853968   -0.853968   -0.906273  \n",
        "999    -0.776772   -0.776772   -0.623830  \n",
        "433    -0.736488   -0.736488   -0.825473  \n",
        "205    -0.776768   -0.776768   -0.795192  \n",
        "403    -0.585887   -0.585887   -0.719419  \n",
        "408    -0.642482   -0.642482   -0.945841  \n",
        "964    -0.633819   -0.633819   -0.726666  \n",
        "407    -0.539305   -0.539305   -0.679374  \n",
        "966    -0.617946   -0.617946   -0.848781  \n",
        "331    -0.742964   -0.742964   -0.593519  \n",
        "325    -0.743162   -0.743162   -0.939304  \n",
        "251    -0.577227   -0.577227   -0.847289  \n",
        "154    -0.635022   -0.635022   -0.783725  \n",
        "326    -0.342873   -0.342873   -0.885448  \n",
        "998    -0.471287   -0.471287   -0.527735  \n",
        "1123   -0.450739   -0.450739   -0.832470  \n",
        "947    -0.582344   -0.582344   -0.665068  \n",
        "550    -0.523636   -0.523636   -0.689004  \n",
        "771    -0.686646   -0.686646   -0.582648  \n",
        "1117   -0.409543   -0.409543   -0.804698  \n",
        "332    -0.723222   -0.723222   -0.907176  \n",
        "967    -0.491131   -0.491131   -0.703570  \n",
        "1076   -0.534673   -0.534673   -0.523515  \n",
        "884    -0.474261   -0.474261   -0.639821  \n",
        "701    -0.666246   -0.666246   -0.509707  \n",
        "702    -0.668214   -0.668214   -0.510186  \n",
        "...          ...         ...         ...  \n",
        "198     0.404905    0.404905    0.266508  \n",
        "430     0.374453    0.374453    0.169917  \n",
        "706     0.489826    0.489826    0.217114  \n",
        "950     0.299734    0.299734    0.169086  \n",
        "1160    0.707267    0.707267    0.315563  \n",
        "102     0.521558    0.521558    0.190449  \n",
        "207     0.422841    0.422841    0.146486  \n",
        "246     0.099464    0.099464    0.099464  \n",
        "708     0.580438    0.580438    0.360391  \n",
        "200     0.424260    0.424260    0.228126  \n",
        "144     0.425411    0.425411    0.216697  \n",
        "976     0.577876    0.577876    0.339341  \n",
        "747     0.458216    0.458216    0.291371  \n",
        "743     0.490710    0.490710    0.320231  \n",
        "974     0.558170    0.558170    0.367043  \n",
        "359     0.563195    0.563195    0.219687  \n",
        "28      0.570493    0.570493    0.309497  \n",
        "35      0.484596    0.484596    0.226240  \n",
        "258     0.566356    0.566356    0.148370  \n",
        "157     0.668935    0.668935    0.254982  \n",
        "420     0.658918    0.658918    0.212298  \n",
        "418     0.658918    0.658918    0.212298  \n",
        "1009    0.705161    0.705161    0.356049  \n",
        "613     0.793112    0.793112    0.550236  \n",
        "1084    0.552463    0.552463    0.278194  \n",
        "434     0.678042    0.678042    0.252686  \n",
        "354     0.644804    0.644804    0.267618  \n",
        "259     0.576424    0.576424    0.487184  \n",
        "1008    0.784994    0.784994    0.237798  \n",
        "888     0.626945    0.626945    0.676933  \n",
        "\n",
        "[369 rows x 2923 columns]"
       ]
      }
     ],
     "prompt_number": 31
    },
    {
     "cell_type": "code",
     "collapsed": false,
     "input": [
      "latexify(fig_height = 6)\n",
      "\n",
      "numberofplots = 1\n",
      "fig = plt.figure()\n",
      "\n",
      "# Get the data\n",
      "x = mdates.drange(spearmans_daily_sorted.T.index[0], spearmans_daily_sorted.T.index[-1] + datetime.timedelta(days=1), dt.timedelta(days=1))\n",
      "y = np.linspace(1, len(spearmans_daily_sorted.T.columns), len(spearmans_daily_sorted.T.columns))\n",
      "\n",
      "# Plot\n",
      "ax = fig.add_subplot(numberofplots, 1, 1)\n",
      "\n",
      "data = np.ma.masked_invalid(np.array(spearmans_daily_sorted))\n",
      "\n",
      "cmap = cm.get_cmap('RdBu')\n",
      "\n",
      "qmesh = ax.pcolormesh(x, y, data) #, cmap=cmap\n",
      "\n",
      "cbaxes = fig.add_axes([0.2, 0.1, 0.7, 0.02]) \n",
      "cbar = fig.colorbar(qmesh, ax=ax, orientation='horizontal', cax = cbaxes)\n",
      "cbar.ax.tick_params(length = 0)\n",
      "# tick_locator = ticker.MaxNLocator(nbins=3)\n",
      "# cbar.locator = tick_locator\n",
      "# cbar.update_ticks()\n",
      "cbar.set_label(r\"$\\rho$ Coefficient\")\n",
      "\n",
      "ax.axis('tight')\n",
      "\n",
      "# try:\n",
      "#     plt.title(MasterPointList[(MasterPointList.Name == mappingname)].Name.iloc[0] + \"/\" + \n",
      "#           MasterPointList[(MasterPointList.Name == mappingname)].English_Description2.iloc[0] + \n",
      "#           \"/\"+ MasterPointList[(MasterPointList.Name == mappingname)].Description2.iloc[0], fontsize=26)\n",
      "\n",
      "# except IndexError:\n",
      "# continue\n",
      "\n",
      "# Set up as dates\n",
      "ax.xaxis_date()\n",
      "#ax.yaxis.set_ticks()\n",
      "fig.autofmt_xdate()\n",
      "fig.subplots_adjust(hspace=.5)\n",
      "\n",
      "ax.set_xlabel(\"Timeline\")\n",
      "ax.set_ylabel(\"Number of Points\")\n",
      "ax.set_title(\"kWh Meter Weather Sensitivity Screening\")\n",
      "plt.tight_layout()\n",
      "plt.subplots_adjust(bottom=0.22)\n",
      "\n",
      "format_axes(ax)\n",
      "\n",
      "plt.savefig(\"weathersensitivity_map_sorted.png\", dpi=500)"
     ],
     "language": "python",
     "metadata": {},
     "outputs": [
      {
       "metadata": {},
       "output_type": "display_data",
       "png": "[encoded data removed]",
       "text": [
        "<matplotlib.figure.Figure at 0x1117e5d90>"
       ]
      }
     ],
     "prompt_number": 32
    },
    {
     "cell_type": "markdown",
     "metadata": {},
     "source": [
      "###Let's find an example of negative, neutral, and positive spearman rank coefficient\n",
      "\n",
      "These will be shown as examples"
     ]
    },
    {
     "cell_type": "code",
     "collapsed": false,
     "input": [
      "avrgspearman = spearmans_daily.max().order()"
     ],
     "language": "python",
     "metadata": {},
     "outputs": [],
     "prompt_number": 33
    },
    {
     "cell_type": "code",
     "collapsed": false,
     "input": [
      "avrgspearman"
     ],
     "language": "python",
     "metadata": {},
     "outputs": [
      {
       "metadata": {},
       "output_type": "pyout",
       "prompt_number": 34,
       "text": [
        "333    -0.926472\n",
        "405    -0.781730\n",
        "406    -0.730006\n",
        "997    -0.576830\n",
        "1121   -0.571974\n",
        "325    -0.539112\n",
        "330    -0.537812\n",
        "205    -0.476832\n",
        "408    -0.472426\n",
        "252    -0.464412\n",
        "153    -0.441750\n",
        "999    -0.439795\n",
        "433    -0.408539\n",
        "403    -0.385037\n",
        "332    -0.379674\n",
        "...\n",
        "434     0.786898\n",
        "420     0.787928\n",
        "418     0.787928\n",
        "390     0.806268\n",
        "613     0.817678\n",
        "974     0.835164\n",
        "35      0.836677\n",
        "1149    0.843695\n",
        "1148    0.848218\n",
        "1147    0.848906\n",
        "1008    0.874889\n",
        "975     0.887112\n",
        "835     0.917010\n",
        "888     0.922593\n",
        "976     0.938616\n",
        "Length: 369, dtype: float64"
       ]
      }
     ],
     "prompt_number": 34
    },
    {
     "cell_type": "markdown",
     "metadata": {},
     "source": [
      "Spearman Correlation Coefficient Example"
     ]
    },
    {
     "cell_type": "code",
     "collapsed": false,
     "input": [
      "coolingpoint = \"976\"\n",
      "nonsenspoint = \"72\"\n",
      "heatingpoint = \"405\""
     ],
     "language": "python",
     "metadata": {},
     "outputs": [],
     "prompt_number": 35
    },
    {
     "cell_type": "code",
     "collapsed": false,
     "input": [
      "cooling = pd.merge(pd.DataFrame(df[coolingpoint]), df_DB_hourly, right_index=True, left_index=True, how='left')\n",
      "cooling = cooling.dropna().truncate(before='2012-03-01', after='2012-09-01')"
     ],
     "language": "python",
     "metadata": {},
     "outputs": [],
     "prompt_number": 36
    },
    {
     "cell_type": "code",
     "collapsed": false,
     "input": [
      "nonsensitive = pd.merge(pd.DataFrame(df[nonsenspoint]), df_DB_hourly, right_index=True, left_index=True, how='left')\n",
      "nonsensitive = nonsensitive.dropna().truncate(before='2012-03-01', after='2012-09-01')"
     ],
     "language": "python",
     "metadata": {},
     "outputs": [],
     "prompt_number": 37
    },
    {
     "cell_type": "code",
     "collapsed": false,
     "input": [
      "heating = pd.merge(pd.DataFrame(df[heatingpoint]), df_DB_hourly, right_index=True, left_index=True, how='left')\n",
      "heating = heating.dropna().truncate(before='2011-09-01', after='2012-03-01')"
     ],
     "language": "python",
     "metadata": {},
     "outputs": [],
     "prompt_number": 38
    },
    {
     "cell_type": "markdown",
     "metadata": {},
     "source": [
      "To get a shared axis label: http://stackoverflow.com/questions/6963035/pyplot-axes-labels-for-subplots"
     ]
    },
    {
     "cell_type": "code",
     "collapsed": false,
     "input": [
      "latexify(fig_height=4.5)\n",
      "\n",
      "fig = plt.figure()\n",
      "\n",
      "# ax = fig.add_subplot(111)    # The big subplot\n",
      "# # Turn off axis lines and ticks of the big subplot\n",
      "# ax.spines['top'].set_color('none')\n",
      "# ax.spines['bottom'].set_color('none')\n",
      "# ax.spines['left'].set_color('none')\n",
      "# ax.spines['right'].set_color('none')\n",
      "# ax.tick_params(labelcolor='w', top='off', bottom='off', left='off', right='off')\n",
      "\n",
      "ax3 = fig.add_subplot(3, 1, 3)\n",
      "scatter(heating[\"A [Grad C]\"], heating[heatingpoint], facecolors='b')\n",
      "ax3.set_title(\"Heating Sensitive, \"+r\"$\\rho$=\"+str(round(avrgspearman[heatingpoint], 3)))\n",
      "ax3.set_xlabel(\"Outside Air Temperature (deg. C)\")\n",
      "plt.subplots_adjust(left=0.2)\n",
      "format_axes(ax3)\n",
      "\n",
      "ax2 = fig.add_subplot(3, 1, 2, sharex = ax3)\n",
      "scatter(nonsensitive[\"A [Grad C]\"], nonsensitive[nonsenspoint], facecolors='g')\n",
      "ax2.set_title(\"Weather Insensitive, \"+r\"$\\rho$=\"+str(round(avrgspearman[nonsenspoint], 3)))\n",
      "setp(ax2.get_xticklabels(), visible=False)\n",
      "plt.subplots_adjust(left=0.2)\n",
      "format_axes(ax2)\n",
      "\n",
      "\n",
      "ax1 = fig.add_subplot(3, 1, 1)\n",
      "scatter(cooling[\"A [Grad C]\"], cooling[coolingpoint], facecolors='r')\n",
      "ax1.set_title(\"Cooling Sensitive, \"+r\"$\\rho$=\"+str(round(avrgspearman[coolingpoint], 3)))\n",
      "setp(ax1.get_xticklabels(), visible=False)\n",
      "plt.subplots_adjust(left=0.2)\n",
      "format_axes(ax1)\n",
      "\n",
      "\n",
      "ax2.set_ylabel('Energy [kWh]')\n",
      "\n",
      "\n",
      "plt.tight_layout()\n",
      "\n",
      "plt.savefig(\"weathersensitivity_examples.pdf\")"
     ],
     "language": "python",
     "metadata": {},
     "outputs": [
      {
       "metadata": {},
       "output_type": "display_data",
       "png": "[encoded data removed]",
       "text": [
        "<matplotlib.figure.Figure at 0x181964190>"
       ]
      }
     ],
     "prompt_number": 39
    },
    {
     "cell_type": "markdown",
     "metadata": {},
     "source": [
      "###Export a list of the sensitivity coefficients - for the breakpoint analysis"
     ]
    },
    {
     "cell_type": "code",
     "collapsed": false,
     "input": [
      "avrgspearman.abs().to_csv(\"avgspearman_points.csv\")"
     ],
     "language": "python",
     "metadata": {},
     "outputs": [],
     "prompt_number": 40
    },
    {
     "cell_type": "markdown",
     "metadata": {},
     "source": [
      "###Let's create a datastream example to connect to the map"
     ]
    },
    {
     "cell_type": "code",
     "collapsed": false,
     "input": [
      "df[coolingpoint].plot()"
     ],
     "language": "python",
     "metadata": {},
     "outputs": [
      {
       "metadata": {},
       "output_type": "pyout",
       "prompt_number": 41,
       "text": [
        "<matplotlib.axes._subplots.AxesSubplot at 0x1117c3990>"
       ]
      },
      {
       "metadata": {},
       "output_type": "display_data",
       "png": "[encoded data removed]",
       "text": [
        "<matplotlib.figure.Figure at 0x1117ea210>"
       ]
      }
     ],
     "prompt_number": 41
    },
    {
     "cell_type": "code",
     "collapsed": false,
     "input": [
      "combinedcooling = pd.merge(pd.DataFrame(df[coolingpoint]), pd.DataFrame(spearmans_daily[coolingpoint]), right_index=True, left_index=True, how='outer')\n",
      "combinedcooling.columns = [\"Cooling_Energy\",\"Spearman_Corr_Coeff\"]\n",
      "combined_cooling = combinedcooling.fillna(method='ffill').truncate(before='2011-01-01', after='2011-12-31')"
     ],
     "language": "python",
     "metadata": {},
     "outputs": [],
     "prompt_number": 42
    },
    {
     "cell_type": "code",
     "collapsed": false,
     "input": [
      "combined_non = pd.merge(pd.DataFrame(df[nonsenspoint]), pd.DataFrame(spearmans_daily[nonsenspoint]), right_index=True, left_index=True, how='outer')\n",
      "combined_non.columns = [\"Nonsens_Energy\",\"Spearman_Corr_Coeff\"]\n",
      "combined_non = combined_non.fillna(method='ffill').truncate(before='2011-01-01', after='2011-12-31')"
     ],
     "language": "python",
     "metadata": {},
     "outputs": [],
     "prompt_number": 43
    },
    {
     "cell_type": "code",
     "collapsed": false,
     "input": [
      "combined_heating = pd.merge(pd.DataFrame(df[heatingpoint]), pd.DataFrame(spearmans_daily[heatingpoint]), right_index=True, left_index=True, how='outer')\n",
      "combined_heating.columns = [\"Heating_Energy\",\"Spearman_Corr_Coeff\"]\n",
      "combined_heating = combined_heating.fillna(method='ffill').truncate(before='2011-01-01', after='2011-12-31')"
     ],
     "language": "python",
     "metadata": {},
     "outputs": [],
     "prompt_number": 44
    },
    {
     "cell_type": "code",
     "collapsed": false,
     "input": [
      "combined_heating.describe()"
     ],
     "language": "python",
     "metadata": {},
     "outputs": [
      {
       "html": [
        "<div style=\"max-height:1000px;max-width:1500px;overflow:auto;\">\n",
        "<table border=\"1\" class=\"dataframe\">\n",
        "  <thead>\n",
        "    <tr style=\"text-align: right;\">\n",
        "      <th></th>\n",
        "      <th>Heating_Energy</th>\n",
        "      <th>Spearman_Corr_Coeff</th>\n",
        "    </tr>\n",
        "  </thead>\n",
        "  <tbody>\n",
        "    <tr>\n",
        "      <th>count</th>\n",
        "      <td> 8737.000000</td>\n",
        "      <td> 8737.000000</td>\n",
        "    </tr>\n",
        "    <tr>\n",
        "      <th>mean</th>\n",
        "      <td>  134.867334</td>\n",
        "      <td>   -0.865132</td>\n",
        "    </tr>\n",
        "    <tr>\n",
        "      <th>std</th>\n",
        "      <td>   86.614531</td>\n",
        "      <td>    0.047495</td>\n",
        "    </tr>\n",
        "    <tr>\n",
        "      <th>min</th>\n",
        "      <td>    0.000000</td>\n",
        "      <td>   -0.935359</td>\n",
        "    </tr>\n",
        "    <tr>\n",
        "      <th>25%</th>\n",
        "      <td>   64.000000</td>\n",
        "      <td>   -0.906684</td>\n",
        "    </tr>\n",
        "    <tr>\n",
        "      <th>50%</th>\n",
        "      <td>  135.000000</td>\n",
        "      <td>   -0.851035</td>\n",
        "    </tr>\n",
        "    <tr>\n",
        "      <th>75%</th>\n",
        "      <td>  206.000000</td>\n",
        "      <td>   -0.810256</td>\n",
        "    </tr>\n",
        "    <tr>\n",
        "      <th>max</th>\n",
        "      <td>  487.000000</td>\n",
        "      <td>   -0.810256</td>\n",
        "    </tr>\n",
        "  </tbody>\n",
        "</table>\n",
        "</div>"
       ],
       "metadata": {},
       "output_type": "pyout",
       "prompt_number": 45,
       "text": [
        "       Heating_Energy  Spearman_Corr_Coeff\n",
        "count     8737.000000          8737.000000\n",
        "mean       134.867334            -0.865132\n",
        "std         86.614531             0.047495\n",
        "min          0.000000            -0.935359\n",
        "25%         64.000000            -0.906684\n",
        "50%        135.000000            -0.851035\n",
        "75%        206.000000            -0.810256\n",
        "max        487.000000            -0.810256"
       ]
      }
     ],
     "prompt_number": 45
    },
    {
     "cell_type": "code",
     "collapsed": false,
     "input": [
      "latexify(fig_height=3)\n",
      "\n",
      "cmap = cm.get_cmap('RdBu')\n",
      "\n",
      "fig = plt.figure()\n",
      "\n",
      "# Plot\n",
      "ax1 = fig.add_subplot(2, 1, 1)\n",
      "y1 = combined_cooling.Cooling_Energy.values*30\n",
      "x1 = np.arange(len(y1))\n",
      "t1 = combined_cooling.Spearman_Corr_Coeff.values*-1\n",
      "ax1.plot(x1, y1, c='black', linewidth=0.2)\n",
      "ymin1, ymax1 = ax1.get_ybound()\n",
      "xmin1, xmax1 = ax1.get_xbound()\n",
      "im1 = ax1.imshow(t1.reshape(1, t1.size), extent=[xmin1 ,x1.max(), ymin1, ymax1], alpha=.5, cmap=cmap, vmin=-1, vmax=1)\n",
      "\n",
      "ax2 = fig.add_subplot(2, 1, 2)\n",
      "y2 = combined_heating.Heating_Energy.values*4\n",
      "x2 = np.arange(len(y2))\n",
      "t2 = combined_heating.Spearman_Corr_Coeff.values*-1\n",
      "ax2.plot(x2, y2, c='black', linewidth=0.2)\n",
      "ymin2, ymax2 = ax2.get_ybound()\n",
      "xmin2, xmax2 = ax2.get_xbound()\n",
      "im2 = ax2.imshow(t2.reshape(1, t2.size), extent=[xmin2, x2.max(), ymin2, ymax2], alpha=.5, cmap=cmap, vmin=-1, vmax=1)\n",
      "\n",
      "\n",
      "cbaxes = fig.add_axes([0.2, 0.14, 0.7, 0.02]) \n",
      "cbar = fig.colorbar(qmesh, ax=ax2, orientation='horizontal', cax = cbaxes)\n",
      "cbar.ax.tick_params(length = 0)\n",
      "cbar.set_label(r\"$\\rho$ Coefficient\")\n",
      "\n",
      "\n",
      "# ax2.set_xlabel(\"Timeline\")\n",
      "# ax.set_ylabel(\"Point Number\")\n",
      "ax1.set_title(\"Cooling Sensitive Example\")\n",
      "ax2.set_title(\"Heating Sensitive Example\")\n",
      "\n",
      "\n",
      "format_axes(ax1)\n",
      "format_axes(ax2)\n",
      "\n",
      "plt.tight_layout()\n",
      "plt.subplots_adjust(bottom=0.2)\n",
      "\n",
      "plt.savefig(\"weather_singleplot.png\", dpi=500)\n",
      "plt.show()"
     ],
     "language": "python",
     "metadata": {},
     "outputs": [
      {
       "metadata": {},
       "output_type": "display_data",
       "png": "[encoded data removed]",
       "text": [
        "<matplotlib.figure.Figure at 0x184bd0390>"
       ]
      }
     ],
     "prompt_number": 46
    },
    {
     "cell_type": "code",
     "collapsed": false,
     "input": [
      "combined_heating.Spearman_Corr_Coeff.plot()"
     ],
     "language": "python",
     "metadata": {},
     "outputs": [
      {
       "metadata": {},
       "output_type": "pyout",
       "prompt_number": 47,
       "text": [
        "<matplotlib.axes._subplots.AxesSubplot at 0x184bc49d0>"
       ]
      },
      {
       "metadata": {},
       "output_type": "display_data",
       "png": "[encoded data removed]",
       "text": [
        "<matplotlib.figure.Figure at 0x184bc9690>"
       ]
      }
     ],
     "prompt_number": 47
    },
    {
     "cell_type": "code",
     "collapsed": false,
     "input": [
      "combined_cooling.Spearman_Corr_Coeff.plot()"
     ],
     "language": "python",
     "metadata": {},
     "outputs": [
      {
       "metadata": {},
       "output_type": "pyout",
       "prompt_number": 48,
       "text": [
        "<matplotlib.axes._subplots.AxesSubplot at 0x127534c50>"
       ]
      },
      {
       "metadata": {},
       "output_type": "display_data",
       "png": "[encoded data removed]",
       "text": [
        "<matplotlib.figure.Figure at 0x127536d90>"
       ]
      }
     ],
     "prompt_number": 48
    },
    {
     "cell_type": "code",
     "collapsed": false,
     "input": [],
     "language": "python",
     "metadata": {},
     "outputs": []
    }
   ],
   "metadata": {}
  }
 ]
}